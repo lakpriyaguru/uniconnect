{
 "cells": [
  {
   "cell_type": "markdown",
   "id": "d6ade8c3",
   "metadata": {},
   "source": [
    "#### TASK 02: Data Preparation"
   ]
  },
  {
   "cell_type": "markdown",
   "id": "8fdcef9d",
   "metadata": {},
   "source": [
    "1. Reading and combining data"
   ]
  },
  {
   "cell_type": "code",
   "execution_count": 4,
   "id": "9e060076",
   "metadata": {},
   "outputs": [],
   "source": [
    "import pandas as pd\n",
    "import numpy as np\n",
    "import glob\n",
    "import seaborn as sns\n",
    "import matplotlib.pyplot as plt\n",
    "from scipy.stats import zscore"
   ]
  },
  {
   "cell_type": "code",
   "execution_count": 5,
   "id": "692a0141",
   "metadata": {},
   "outputs": [
    {
     "data": {
      "text/html": [
       "<div>\n",
       "<style scoped>\n",
       "    .dataframe tbody tr th:only-of-type {\n",
       "        vertical-align: middle;\n",
       "    }\n",
       "\n",
       "    .dataframe tbody tr th {\n",
       "        vertical-align: top;\n",
       "    }\n",
       "\n",
       "    .dataframe thead th {\n",
       "        text-align: right;\n",
       "    }\n",
       "</style>\n",
       "<table border=\"1\" class=\"dataframe\">\n",
       "  <thead>\n",
       "    <tr style=\"text-align: right;\">\n",
       "      <th></th>\n",
       "      <th>Unnamed: 0</th>\n",
       "      <th>Public Vehicle Number</th>\n",
       "      <th>Status</th>\n",
       "      <th>Vehicle Make</th>\n",
       "      <th>Vehicle Model</th>\n",
       "      <th>Vehicle Model Year</th>\n",
       "      <th>Vehicle Color</th>\n",
       "      <th>Vehicle Fuel Source</th>\n",
       "      <th>Wheelchair Accessible</th>\n",
       "      <th>Company Name</th>\n",
       "      <th>Address</th>\n",
       "      <th>City</th>\n",
       "      <th>State</th>\n",
       "      <th>ZIP Code</th>\n",
       "      <th>Taxi Affiliation</th>\n",
       "      <th>Taxi Medallion License Management</th>\n",
       "      <th>Record ID</th>\n",
       "    </tr>\n",
       "  </thead>\n",
       "  <tbody>\n",
       "    <tr>\n",
       "      <th>0</th>\n",
       "      <td>1286</td>\n",
       "      <td>12009</td>\n",
       "      <td>RESERVED</td>\n",
       "      <td>CHEVROLET</td>\n",
       "      <td>EXPRESS</td>\n",
       "      <td>2014.0</td>\n",
       "      <td>BLACK</td>\n",
       "      <td>Bio-Diesel</td>\n",
       "      <td>N</td>\n",
       "      <td>CHICAGO PRIVATE TOURS LLC</td>\n",
       "      <td>4567 S. OAKENWALD AVE.</td>\n",
       "      <td>CHICAGO</td>\n",
       "      <td>IL</td>\n",
       "      <td>60653.0</td>\n",
       "      <td>NaN</td>\n",
       "      <td>NaN</td>\n",
       "      <td>12009Charter Sightseeing</td>\n",
       "    </tr>\n",
       "    <tr>\n",
       "      <th>1</th>\n",
       "      <td>2095</td>\n",
       "      <td>12248</td>\n",
       "      <td>INACTIVE</td>\n",
       "      <td>MERCEDES</td>\n",
       "      <td>SPRINTER</td>\n",
       "      <td>2010.0</td>\n",
       "      <td>SILVER</td>\n",
       "      <td>Bio-Diesel</td>\n",
       "      <td>N</td>\n",
       "      <td>O'HARE-MIDWAY LIMOUSINE SERVICE INC # 2</td>\n",
       "      <td>4610 N. CLARK ST.</td>\n",
       "      <td>CHICAGO</td>\n",
       "      <td>IL</td>\n",
       "      <td>60640.0</td>\n",
       "      <td>NaN</td>\n",
       "      <td>NaN</td>\n",
       "      <td>12248Charter Sightseeing</td>\n",
       "    </tr>\n",
       "    <tr>\n",
       "      <th>2</th>\n",
       "      <td>7950</td>\n",
       "      <td>13527</td>\n",
       "      <td>INACTIVE</td>\n",
       "      <td>VAN HOOL</td>\n",
       "      <td>TD925</td>\n",
       "      <td>2008.0</td>\n",
       "      <td>RED</td>\n",
       "      <td>Bio-Diesel</td>\n",
       "      <td>N</td>\n",
       "      <td>TRT TRANSPORTATION, INC.</td>\n",
       "      <td>4400 S. RACINE AVE.</td>\n",
       "      <td>CHICAGO</td>\n",
       "      <td>IL</td>\n",
       "      <td>60609.0</td>\n",
       "      <td>NaN</td>\n",
       "      <td>NaN</td>\n",
       "      <td>13527Charter Sightseeing</td>\n",
       "    </tr>\n",
       "    <tr>\n",
       "      <th>3</th>\n",
       "      <td>8700</td>\n",
       "      <td>12248</td>\n",
       "      <td>INACTIVE</td>\n",
       "      <td>MERCEDES</td>\n",
       "      <td>SPRINTER</td>\n",
       "      <td>2010.0</td>\n",
       "      <td>SILVER</td>\n",
       "      <td>Bio-Diesel</td>\n",
       "      <td>N</td>\n",
       "      <td>O'HARE-MIDWAY LIMOUSINE SERVICE INC # 2</td>\n",
       "      <td>4610 N. CLARK ST.</td>\n",
       "      <td>CHICAGO</td>\n",
       "      <td>IL</td>\n",
       "      <td>60640.0</td>\n",
       "      <td>NaN</td>\n",
       "      <td>NaN</td>\n",
       "      <td>12248Charter Sightseeing</td>\n",
       "    </tr>\n",
       "    <tr>\n",
       "      <th>4</th>\n",
       "      <td>9359</td>\n",
       "      <td>13528</td>\n",
       "      <td>INACTIVE</td>\n",
       "      <td>VAN HOOL</td>\n",
       "      <td>TD925</td>\n",
       "      <td>2008.0</td>\n",
       "      <td>RED</td>\n",
       "      <td>Bio-Diesel</td>\n",
       "      <td>N</td>\n",
       "      <td>TRT TRANSPORTATION, INC.</td>\n",
       "      <td>4400 S. RACINE AVE.</td>\n",
       "      <td>CHICAGO</td>\n",
       "      <td>IL</td>\n",
       "      <td>60609.0</td>\n",
       "      <td>NaN</td>\n",
       "      <td>NaN</td>\n",
       "      <td>13528Charter Sightseeing</td>\n",
       "    </tr>\n",
       "  </tbody>\n",
       "</table>\n",
       "</div>"
      ],
      "text/plain": [
       "   Unnamed: 0  Public Vehicle Number    Status Vehicle Make Vehicle Model  \\\n",
       "0        1286                  12009  RESERVED    CHEVROLET       EXPRESS   \n",
       "1        2095                  12248  INACTIVE     MERCEDES      SPRINTER   \n",
       "2        7950                  13527  INACTIVE     VAN HOOL         TD925   \n",
       "3        8700                  12248  INACTIVE     MERCEDES      SPRINTER   \n",
       "4        9359                  13528  INACTIVE     VAN HOOL         TD925   \n",
       "\n",
       "   Vehicle Model Year Vehicle Color Vehicle Fuel Source Wheelchair Accessible  \\\n",
       "0              2014.0         BLACK          Bio-Diesel                     N   \n",
       "1              2010.0        SILVER          Bio-Diesel                     N   \n",
       "2              2008.0           RED          Bio-Diesel                     N   \n",
       "3              2010.0        SILVER          Bio-Diesel                     N   \n",
       "4              2008.0           RED          Bio-Diesel                     N   \n",
       "\n",
       "                              Company Name                 Address     City  \\\n",
       "0                CHICAGO PRIVATE TOURS LLC  4567 S. OAKENWALD AVE.  CHICAGO   \n",
       "1  O'HARE-MIDWAY LIMOUSINE SERVICE INC # 2       4610 N. CLARK ST.  CHICAGO   \n",
       "2                 TRT TRANSPORTATION, INC.     4400 S. RACINE AVE.  CHICAGO   \n",
       "3  O'HARE-MIDWAY LIMOUSINE SERVICE INC # 2       4610 N. CLARK ST.  CHICAGO   \n",
       "4                 TRT TRANSPORTATION, INC.     4400 S. RACINE AVE.  CHICAGO   \n",
       "\n",
       "  State  ZIP Code Taxi Affiliation Taxi Medallion License Management   \\\n",
       "0    IL   60653.0              NaN                                NaN   \n",
       "1    IL   60640.0              NaN                                NaN   \n",
       "2    IL   60609.0              NaN                                NaN   \n",
       "3    IL   60640.0              NaN                                NaN   \n",
       "4    IL   60609.0              NaN                                NaN   \n",
       "\n",
       "                  Record ID  \n",
       "0  12009Charter Sightseeing  \n",
       "1  12248Charter Sightseeing  \n",
       "2  13527Charter Sightseeing  \n",
       "3  12248Charter Sightseeing  \n",
       "4  13528Charter Sightseeing  "
      ]
     },
     "execution_count": 5,
     "metadata": {},
     "output_type": "execute_result"
    }
   ],
   "source": [
    "path ='PassengerVehicle_Stats/*.csv'  \n",
    "csv_files = glob.glob(path)\n",
    "\n",
    "# Load all CSV files into a list\n",
    "dataframes = [pd.read_csv(file) for file in csv_files]\n",
    "\n",
    "# Concatenate all dataframes into a single DataFrame\n",
    "vehicles_df = pd.concat(dataframes, ignore_index=True)\n",
    "\n",
    "# Display the first few rows of the combined DataFrame\n",
    "vehicles_df.head()"
   ]
  },
  {
   "cell_type": "code",
   "execution_count": 6,
   "id": "13521581",
   "metadata": {},
   "outputs": [],
   "source": [
    "vehicles_df.to_csv('combined_vehicles.csv', index=False)"
   ]
  },
  {
   "cell_type": "code",
   "execution_count": 7,
   "id": "7c99787e",
   "metadata": {},
   "outputs": [
    {
     "data": {
      "text/plain": [
       "(16602, 17)"
      ]
     },
     "execution_count": 7,
     "metadata": {},
     "output_type": "execute_result"
    }
   ],
   "source": [
    "# No. of records and columns\n",
    "vehicles_df.shape"
   ]
  },
  {
   "cell_type": "markdown",
   "id": "0959513b",
   "metadata": {},
   "source": [
    "2. Initial data exploration and cleaning"
   ]
  },
  {
   "cell_type": "markdown",
   "id": "8a9ad0a7",
   "metadata": {},
   "source": [
    "Examine dataFrame structure "
   ]
  },
  {
   "cell_type": "code",
   "execution_count": 8,
   "id": "ab2f1163",
   "metadata": {},
   "outputs": [
    {
     "name": "stdout",
     "output_type": "stream",
     "text": [
      "<class 'pandas.core.frame.DataFrame'>\n",
      "RangeIndex: 16602 entries, 0 to 16601\n",
      "Data columns (total 17 columns):\n",
      " #   Column                              Non-Null Count  Dtype  \n",
      "---  ------                              --------------  -----  \n",
      " 0   Unnamed: 0                          16602 non-null  int64  \n",
      " 1   Public Vehicle Number               16602 non-null  int64  \n",
      " 2   Status                              16602 non-null  object \n",
      " 3   Vehicle Make                        14685 non-null  object \n",
      " 4   Vehicle Model                       14639 non-null  object \n",
      " 5   Vehicle Model Year                  14660 non-null  float64\n",
      " 6   Vehicle Color                       14616 non-null  object \n",
      " 7   Vehicle Fuel Source                 16602 non-null  object \n",
      " 8   Wheelchair Accessible               16602 non-null  object \n",
      " 9   Company Name                        16602 non-null  object \n",
      " 10  Address                             14816 non-null  object \n",
      " 11  City                                14816 non-null  object \n",
      " 12  State                               14816 non-null  object \n",
      " 13  ZIP Code                            14816 non-null  float64\n",
      " 14  Taxi Affiliation                    7348 non-null   object \n",
      " 15  Taxi Medallion License Management   7321 non-null   object \n",
      " 16  Record ID                           16602 non-null  object \n",
      "dtypes: float64(2), int64(2), object(13)\n",
      "memory usage: 2.2+ MB\n"
     ]
    }
   ],
   "source": [
    "# Displays a concise summary of the DataFrame\n",
    "vehicles_df.info()"
   ]
  },
  {
   "cell_type": "code",
   "execution_count": 9,
   "id": "cb7b9c9a",
   "metadata": {},
   "outputs": [
    {
     "data": {
      "text/html": [
       "<div>\n",
       "<style scoped>\n",
       "    .dataframe tbody tr th:only-of-type {\n",
       "        vertical-align: middle;\n",
       "    }\n",
       "\n",
       "    .dataframe tbody tr th {\n",
       "        vertical-align: top;\n",
       "    }\n",
       "\n",
       "    .dataframe thead th {\n",
       "        text-align: right;\n",
       "    }\n",
       "</style>\n",
       "<table border=\"1\" class=\"dataframe\">\n",
       "  <thead>\n",
       "    <tr style=\"text-align: right;\">\n",
       "      <th></th>\n",
       "      <th>Unnamed: 0</th>\n",
       "      <th>Public Vehicle Number</th>\n",
       "      <th>Vehicle Model Year</th>\n",
       "      <th>ZIP Code</th>\n",
       "    </tr>\n",
       "  </thead>\n",
       "  <tbody>\n",
       "    <tr>\n",
       "      <th>count</th>\n",
       "      <td>16602.00000</td>\n",
       "      <td>1.660200e+04</td>\n",
       "      <td>14660.000000</td>\n",
       "      <td>14816.000000</td>\n",
       "    </tr>\n",
       "    <tr>\n",
       "      <th>mean</th>\n",
       "      <td>8300.50000</td>\n",
       "      <td>3.854566e+04</td>\n",
       "      <td>2012.669714</td>\n",
       "      <td>60612.519573</td>\n",
       "    </tr>\n",
       "    <tr>\n",
       "      <th>std</th>\n",
       "      <td>4792.72892</td>\n",
       "      <td>1.372946e+05</td>\n",
       "      <td>83.622806</td>\n",
       "      <td>104.290880</td>\n",
       "    </tr>\n",
       "    <tr>\n",
       "      <th>min</th>\n",
       "      <td>0.00000</td>\n",
       "      <td>0.000000e+00</td>\n",
       "      <td>0.000000</td>\n",
       "      <td>60004.000000</td>\n",
       "    </tr>\n",
       "    <tr>\n",
       "      <th>25%</th>\n",
       "      <td>4150.25000</td>\n",
       "      <td>3.633250e+03</td>\n",
       "      <td>2013.000000</td>\n",
       "      <td>60619.000000</td>\n",
       "    </tr>\n",
       "    <tr>\n",
       "      <th>50%</th>\n",
       "      <td>8300.50000</td>\n",
       "      <td>6.991500e+03</td>\n",
       "      <td>2016.000000</td>\n",
       "      <td>60631.000000</td>\n",
       "    </tr>\n",
       "    <tr>\n",
       "      <th>75%</th>\n",
       "      <td>12450.75000</td>\n",
       "      <td>1.683925e+04</td>\n",
       "      <td>2021.000000</td>\n",
       "      <td>60646.000000</td>\n",
       "    </tr>\n",
       "    <tr>\n",
       "      <th>max</th>\n",
       "      <td>16601.00000</td>\n",
       "      <td>6.902206e+06</td>\n",
       "      <td>2025.000000</td>\n",
       "      <td>61111.000000</td>\n",
       "    </tr>\n",
       "  </tbody>\n",
       "</table>\n",
       "</div>"
      ],
      "text/plain": [
       "        Unnamed: 0  Public Vehicle Number  Vehicle Model Year      ZIP Code\n",
       "count  16602.00000           1.660200e+04        14660.000000  14816.000000\n",
       "mean    8300.50000           3.854566e+04         2012.669714  60612.519573\n",
       "std     4792.72892           1.372946e+05           83.622806    104.290880\n",
       "min        0.00000           0.000000e+00            0.000000  60004.000000\n",
       "25%     4150.25000           3.633250e+03         2013.000000  60619.000000\n",
       "50%     8300.50000           6.991500e+03         2016.000000  60631.000000\n",
       "75%    12450.75000           1.683925e+04         2021.000000  60646.000000\n",
       "max    16601.00000           6.902206e+06         2025.000000  61111.000000"
      ]
     },
     "execution_count": 9,
     "metadata": {},
     "output_type": "execute_result"
    }
   ],
   "source": [
    "# Descriptive statistics for numeric columns in the DataFrame\n",
    "vehicles_df.describe()"
   ]
  },
  {
   "cell_type": "code",
   "execution_count": 10,
   "id": "49e0582a",
   "metadata": {},
   "outputs": [
    {
     "data": {
      "text/plain": [
       "Unnamed: 0                            16602\n",
       "Public Vehicle Number                 14473\n",
       "Status                                    8\n",
       "Vehicle Make                             86\n",
       "Vehicle Model                           292\n",
       "Vehicle Model Year                       48\n",
       "Vehicle Color                            88\n",
       "Vehicle Fuel Source                       9\n",
       "Wheelchair Accessible                     2\n",
       "Company Name                           7494\n",
       "Address                                2366\n",
       "City                                     37\n",
       "State                                     1\n",
       "ZIP Code                                 92\n",
       "Taxi Affiliation                         24\n",
       "Taxi Medallion License Management        10\n",
       "Record ID                             15667\n",
       "dtype: int64"
      ]
     },
     "execution_count": 10,
     "metadata": {},
     "output_type": "execute_result"
    }
   ],
   "source": [
    "# Returns the number of unique values for each column in the DataFrame\n",
    "vehicles_df.nunique()"
   ]
  },
  {
   "cell_type": "markdown",
   "id": "71199904",
   "metadata": {},
   "source": [
    "Check for Duplicates"
   ]
  },
  {
   "cell_type": "code",
   "execution_count": 12,
   "id": "18fe3b1f",
   "metadata": {},
   "outputs": [
    {
     "data": {
      "text/plain": [
       "np.int64(0)"
      ]
     },
     "execution_count": 12,
     "metadata": {},
     "output_type": "execute_result"
    }
   ],
   "source": [
    "vehicles_df.duplicated().sum()"
   ]
  },
  {
   "cell_type": "code",
   "execution_count": 13,
   "id": "adc27b44",
   "metadata": {},
   "outputs": [
    {
     "data": {
      "text/html": [
       "<div>\n",
       "<style scoped>\n",
       "    .dataframe tbody tr th:only-of-type {\n",
       "        vertical-align: middle;\n",
       "    }\n",
       "\n",
       "    .dataframe tbody tr th {\n",
       "        vertical-align: top;\n",
       "    }\n",
       "\n",
       "    .dataframe thead th {\n",
       "        text-align: right;\n",
       "    }\n",
       "</style>\n",
       "<table border=\"1\" class=\"dataframe\">\n",
       "  <thead>\n",
       "    <tr style=\"text-align: right;\">\n",
       "      <th></th>\n",
       "      <th>Unnamed: 0</th>\n",
       "      <th>Public Vehicle Number</th>\n",
       "      <th>Status</th>\n",
       "      <th>Vehicle Make</th>\n",
       "      <th>Vehicle Model</th>\n",
       "      <th>Vehicle Model Year</th>\n",
       "      <th>Vehicle Color</th>\n",
       "      <th>Vehicle Fuel Source</th>\n",
       "      <th>Wheelchair Accessible</th>\n",
       "      <th>Company Name</th>\n",
       "      <th>Address</th>\n",
       "      <th>City</th>\n",
       "      <th>State</th>\n",
       "      <th>ZIP Code</th>\n",
       "      <th>Taxi Affiliation</th>\n",
       "      <th>Taxi Medallion License Management</th>\n",
       "      <th>Record ID</th>\n",
       "    </tr>\n",
       "  </thead>\n",
       "  <tbody>\n",
       "  </tbody>\n",
       "</table>\n",
       "</div>"
      ],
      "text/plain": [
       "Empty DataFrame\n",
       "Columns: [Unnamed: 0, Public Vehicle Number, Status, Vehicle Make, Vehicle Model, Vehicle Model Year, Vehicle Color, Vehicle Fuel Source, Wheelchair Accessible, Company Name, Address, City, State, ZIP Code, Taxi Affiliation, Taxi Medallion License Management , Record ID]\n",
       "Index: []"
      ]
     },
     "execution_count": 13,
     "metadata": {},
     "output_type": "execute_result"
    }
   ],
   "source": [
    "vehicles_df[vehicles_df.duplicated()]"
   ]
  },
  {
   "cell_type": "markdown",
   "id": "ef8fdb68",
   "metadata": {},
   "source": [
    "Remove duplicate records"
   ]
  },
  {
   "cell_type": "code",
   "execution_count": 14,
   "id": "f7535f48",
   "metadata": {},
   "outputs": [],
   "source": [
    "#If any. But no duplicates in this dataset\n",
    "vehicles_df = vehicles_df.drop_duplicates()"
   ]
  }
 ],
 "metadata": {
  "kernelspec": {
   "display_name": "Python 3",
   "language": "python",
   "name": "python3"
  },
  "language_info": {
   "codemirror_mode": {
    "name": "ipython",
    "version": 3
   },
   "file_extension": ".py",
   "mimetype": "text/x-python",
   "name": "python",
   "nbconvert_exporter": "python",
   "pygments_lexer": "ipython3",
   "version": "3.12.5"
  }
 },
 "nbformat": 4,
 "nbformat_minor": 5
}
