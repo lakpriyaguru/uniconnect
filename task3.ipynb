{
 "cells": [
  {
   "cell_type": "markdown",
   "id": "c134cf47",
   "metadata": {},
   "source": [
    "# Case 03 - Task 03\n",
    "Kia Vehicle Reviews Classification and Sentiment Analysis"
   ]
  },
  {
   "cell_type": "code",
   "execution_count": null,
   "id": "36525eec",
   "metadata": {
    "vscode": {
     "languageId": "plaintext"
    }
   },
   "outputs": [],
   "source": [
    "# Import necessary libraries\n",
    "import pandas as pd\n",
    "import matplotlib.pyplot as plt\n",
    "from transformers import pipeline\n",
    "import seaborn as sns\n"
   ]
  }
 ],
 "metadata": {
  "language_info": {
   "name": "python"
  }
 },
 "nbformat": 4,
 "nbformat_minor": 5
}
