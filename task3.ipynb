{
  "cells": [
    {
      "cell_type": "markdown",
      "id": "c134cf47",
      "metadata": {
        "id": "c134cf47"
      },
      "source": [
        "# Case 03 - Task 03\n",
        "Kia Vehicle Reviews Classification and Sentiment Analysis"
      ]
    },
    {
      "cell_type": "code",
      "execution_count": 1,
      "id": "415418a0",
      "metadata": {
        "colab": {
          "base_uri": "https://localhost:8080/"
        },
        "id": "415418a0",
        "outputId": "bd089aaf-9920-4149-f9be-7c788273a35f"
      },
      "outputs": [
        {
          "name": "stdout",
          "output_type": "stream",
          "text": [
            "Requirement already satisfied: pandas in /usr/local/lib/python3.11/dist-packages (2.2.3)\n",
            "Requirement already satisfied: matplotlib in /usr/local/lib/python3.11/dist-packages (3.10.1)\n",
            "Requirement already satisfied: seaborn in /usr/local/lib/python3.11/dist-packages (0.13.2)\n",
            "Requirement already satisfied: transformers in /usr/local/lib/python3.11/dist-packages (4.51.3)\n",
            "Requirement already satisfied: datasets in /usr/local/lib/python3.11/dist-packages (3.5.0)\n",
            "Requirement already satisfied: accelerate in /usr/local/lib/python3.11/dist-packages (1.6.0)\n",
            "Requirement already satisfied: numpy>=1.23.2 in /usr/local/lib/python3.11/dist-packages (from pandas) (2.0.2)\n",
            "Requirement already satisfied: python-dateutil>=2.8.2 in /usr/local/lib/python3.11/dist-packages (from pandas) (2.8.2)\n",
            "Requirement already satisfied: pytz>=2020.1 in /usr/local/lib/python3.11/dist-packages (from pandas) (2025.2)\n",
            "Requirement already satisfied: tzdata>=2022.7 in /usr/local/lib/python3.11/dist-packages (from pandas) (2025.2)\n",
            "Requirement already satisfied: contourpy>=1.0.1 in /usr/local/lib/python3.11/dist-packages (from matplotlib) (1.3.2)\n",
            "Requirement already satisfied: cycler>=0.10 in /usr/local/lib/python3.11/dist-packages (from matplotlib) (0.12.1)\n",
            "Requirement already satisfied: fonttools>=4.22.0 in /usr/local/lib/python3.11/dist-packages (from matplotlib) (4.57.0)\n",
            "Requirement already satisfied: kiwisolver>=1.3.1 in /usr/local/lib/python3.11/dist-packages (from matplotlib) (1.4.8)\n",
            "Requirement already satisfied: packaging>=20.0 in /usr/local/lib/python3.11/dist-packages (from matplotlib) (24.2)\n",
            "Requirement already satisfied: pillow>=8 in /usr/local/lib/python3.11/dist-packages (from matplotlib) (11.1.0)\n",
            "Requirement already satisfied: pyparsing>=2.3.1 in /usr/local/lib/python3.11/dist-packages (from matplotlib) (3.2.3)\n",
            "Requirement already satisfied: filelock in /usr/local/lib/python3.11/dist-packages (from transformers) (3.18.0)\n",
            "Requirement already satisfied: huggingface-hub<1.0,>=0.30.0 in /usr/local/lib/python3.11/dist-packages (from transformers) (0.30.2)\n",
            "Requirement already satisfied: pyyaml>=5.1 in /usr/local/lib/python3.11/dist-packages (from transformers) (6.0.2)\n",
            "Requirement already satisfied: regex!=2019.12.17 in /usr/local/lib/python3.11/dist-packages (from transformers) (2024.11.6)\n",
            "Requirement already satisfied: requests in /usr/local/lib/python3.11/dist-packages (from transformers) (2.32.3)\n",
            "Requirement already satisfied: tokenizers<0.22,>=0.21 in /usr/local/lib/python3.11/dist-packages (from transformers) (0.21.1)\n",
            "Requirement already satisfied: safetensors>=0.4.3 in /usr/local/lib/python3.11/dist-packages (from transformers) (0.5.3)\n",
            "Requirement already satisfied: tqdm>=4.27 in /usr/local/lib/python3.11/dist-packages (from transformers) (4.67.1)\n",
            "Requirement already satisfied: pyarrow>=15.0.0 in /usr/local/lib/python3.11/dist-packages (from datasets) (18.1.0)\n",
            "Requirement already satisfied: dill<0.3.9,>=0.3.0 in /usr/local/lib/python3.11/dist-packages (from datasets) (0.3.8)\n",
            "Requirement already satisfied: xxhash in /usr/local/lib/python3.11/dist-packages (from datasets) (3.5.0)\n",
            "Requirement already satisfied: multiprocess<0.70.17 in /usr/local/lib/python3.11/dist-packages (from datasets) (0.70.16)\n",
            "Requirement already satisfied: fsspec<=2024.12.0,>=2023.1.0 in /usr/local/lib/python3.11/dist-packages (from fsspec[http]<=2024.12.0,>=2023.1.0->datasets) (2024.12.0)\n",
            "Requirement already satisfied: aiohttp in /usr/local/lib/python3.11/dist-packages (from datasets) (3.11.15)\n",
            "Requirement already satisfied: psutil in /usr/local/lib/python3.11/dist-packages (from accelerate) (5.9.5)\n",
            "Requirement already satisfied: torch>=2.0.0 in /usr/local/lib/python3.11/dist-packages (from accelerate) (2.6.0+cu124)\n",
            "Requirement already satisfied: aiohappyeyeballs>=2.3.0 in /usr/local/lib/python3.11/dist-packages (from aiohttp->datasets) (2.6.1)\n",
            "Requirement already satisfied: aiosignal>=1.1.2 in /usr/local/lib/python3.11/dist-packages (from aiohttp->datasets) (1.3.2)\n",
            "Requirement already satisfied: attrs>=17.3.0 in /usr/local/lib/python3.11/dist-packages (from aiohttp->datasets) (25.3.0)\n",
            "Requirement already satisfied: frozenlist>=1.1.1 in /usr/local/lib/python3.11/dist-packages (from aiohttp->datasets) (1.5.0)\n",
            "Requirement already satisfied: multidict<7.0,>=4.5 in /usr/local/lib/python3.11/dist-packages (from aiohttp->datasets) (6.4.3)\n",
            "Requirement already satisfied: propcache>=0.2.0 in /usr/local/lib/python3.11/dist-packages (from aiohttp->datasets) (0.3.1)\n",
            "Requirement already satisfied: yarl<2.0,>=1.17.0 in /usr/local/lib/python3.11/dist-packages (from aiohttp->datasets) (1.19.0)\n",
            "Requirement already satisfied: typing-extensions>=3.7.4.3 in /usr/local/lib/python3.11/dist-packages (from huggingface-hub<1.0,>=0.30.0->transformers) (4.13.2)\n",
            "Requirement already satisfied: six>=1.5 in /usr/local/lib/python3.11/dist-packages (from python-dateutil>=2.8.2->pandas) (1.17.0)\n",
            "Requirement already satisfied: charset-normalizer<4,>=2 in /usr/local/lib/python3.11/dist-packages (from requests->transformers) (3.4.1)\n",
            "Requirement already satisfied: idna<4,>=2.5 in /usr/local/lib/python3.11/dist-packages (from requests->transformers) (3.10)\n",
            "Requirement already satisfied: urllib3<3,>=1.21.1 in /usr/local/lib/python3.11/dist-packages (from requests->transformers) (2.3.0)\n",
            "Requirement already satisfied: certifi>=2017.4.17 in /usr/local/lib/python3.11/dist-packages (from requests->transformers) (2025.1.31)\n",
            "Requirement already satisfied: networkx in /usr/local/lib/python3.11/dist-packages (from torch>=2.0.0->accelerate) (3.4.2)\n",
            "Requirement already satisfied: jinja2 in /usr/local/lib/python3.11/dist-packages (from torch>=2.0.0->accelerate) (3.1.6)\n",
            "Requirement already satisfied: nvidia-cuda-nvrtc-cu12==12.4.127 in /usr/local/lib/python3.11/dist-packages (from torch>=2.0.0->accelerate) (12.4.127)\n",
            "Requirement already satisfied: nvidia-cuda-runtime-cu12==12.4.127 in /usr/local/lib/python3.11/dist-packages (from torch>=2.0.0->accelerate) (12.4.127)\n",
            "Requirement already satisfied: nvidia-cuda-cupti-cu12==12.4.127 in /usr/local/lib/python3.11/dist-packages (from torch>=2.0.0->accelerate) (12.4.127)\n",
            "Requirement already satisfied: nvidia-cudnn-cu12==9.1.0.70 in /usr/local/lib/python3.11/dist-packages (from torch>=2.0.0->accelerate) (9.1.0.70)\n",
            "Requirement already satisfied: nvidia-cublas-cu12==12.4.5.8 in /usr/local/lib/python3.11/dist-packages (from torch>=2.0.0->accelerate) (12.4.5.8)\n",
            "Requirement already satisfied: nvidia-cufft-cu12==11.2.1.3 in /usr/local/lib/python3.11/dist-packages (from torch>=2.0.0->accelerate) (11.2.1.3)\n",
            "Requirement already satisfied: nvidia-curand-cu12==10.3.5.147 in /usr/local/lib/python3.11/dist-packages (from torch>=2.0.0->accelerate) (10.3.5.147)\n",
            "Requirement already satisfied: nvidia-cusolver-cu12==11.6.1.9 in /usr/local/lib/python3.11/dist-packages (from torch>=2.0.0->accelerate) (11.6.1.9)\n",
            "Requirement already satisfied: nvidia-cusparse-cu12==12.3.1.170 in /usr/local/lib/python3.11/dist-packages (from torch>=2.0.0->accelerate) (12.3.1.170)\n",
            "Requirement already satisfied: nvidia-cusparselt-cu12==0.6.2 in /usr/local/lib/python3.11/dist-packages (from torch>=2.0.0->accelerate) (0.6.2)\n",
            "Requirement already satisfied: nvidia-nccl-cu12==2.21.5 in /usr/local/lib/python3.11/dist-packages (from torch>=2.0.0->accelerate) (2.21.5)\n",
            "Requirement already satisfied: nvidia-nvtx-cu12==12.4.127 in /usr/local/lib/python3.11/dist-packages (from torch>=2.0.0->accelerate) (12.4.127)\n",
            "Requirement already satisfied: nvidia-nvjitlink-cu12==12.4.127 in /usr/local/lib/python3.11/dist-packages (from torch>=2.0.0->accelerate) (12.4.127)\n",
            "Requirement already satisfied: triton==3.2.0 in /usr/local/lib/python3.11/dist-packages (from torch>=2.0.0->accelerate) (3.2.0)\n",
            "Requirement already satisfied: sympy==1.13.1 in /usr/local/lib/python3.11/dist-packages (from torch>=2.0.0->accelerate) (1.13.1)\n",
            "Requirement already satisfied: mpmath<1.4,>=1.1.0 in /usr/local/lib/python3.11/dist-packages (from sympy==1.13.1->torch>=2.0.0->accelerate) (1.3.0)\n",
            "Requirement already satisfied: MarkupSafe>=2.0 in /usr/local/lib/python3.11/dist-packages (from jinja2->torch>=2.0.0->accelerate) (3.0.2)\n"
          ]
        }
      ],
      "source": [
        "# Install required packages\n",
        "!pip install pandas matplotlib seaborn transformers datasets accelerate -U"
      ]
    },
    {
      "cell_type": "code",
      "execution_count": 3,
      "id": "36525eec",
      "metadata": {
        "id": "36525eec"
      },
      "outputs": [],
      "source": [
        "# Imports\n",
        "import pandas as pd\n",
        "import torch\n",
        "from datasets import Dataset\n",
        "from transformers import (\n",
        "    AutoModelForSequenceClassification,\n",
        "    AutoTokenizer,\n",
        "    pipeline\n",
        ")\n",
        "import matplotlib.pyplot as plt\n",
        "import seaborn as sns\n",
        "import numpy as np"
      ]
    },
    {
      "cell_type": "markdown",
      "id": "52e44f5e",
      "metadata": {
        "id": "52e44f5e"
      },
      "source": [
        "## Load Dataset"
      ]
    },
    {
      "cell_type": "code",
      "execution_count": 4,
      "id": "1622e7b5",
      "metadata": {
        "colab": {
          "base_uri": "https://localhost:8080/"
        },
        "id": "1622e7b5",
        "outputId": "7a74adc4-f6f7-43b8-d812-bba34658c815"
      },
      "outputs": [
        {
          "name": "stdout",
          "output_type": "stream",
          "text": [
            "Original columns: ['Review']\n"
          ]
        }
      ],
      "source": [
        "# Load and verify data\n",
        "df = pd.read_csv(\"car_reviews.csv\")\n",
        "print(\"Original columns:\", df.columns.tolist())\n",
        "\n",
        "# Standardize column name\n",
        "if 'Review' in df.columns:\n",
        "    df = df.rename(columns={\"Review\": \"review\"})\n",
        "\n",
        "# Convert to HuggingFace Dataset\n",
        "dataset = Dataset.from_pandas(df)"
      ]
    },
    {
      "cell_type": "markdown",
      "id": "909180f5",
      "metadata": {},
      "source": [
        "Analysis of dataset"
      ]
    },
    {
      "cell_type": "code",
      "execution_count": 12,
      "id": "ce309f0d",
      "metadata": {},
      "outputs": [
        {
          "name": "stderr",
          "output_type": "stream",
          "text": [
            "Token indices sequence length is longer than the specified maximum sequence length for this model (1174 > 1024). Running this sequence through the model will result in indexing errors\n"
          ]
        },
        {
          "name": "stdout",
          "output_type": "stream",
          "text": [
            "==================================================\n",
            "TOKEN LENGTH ANALYSIS REPORT\n",
            "==================================================\n",
            "Total rows: 5959\n",
            "\n",
            "Basic Statistics:\n",
            "Max tokens: 1204\n",
            "Min tokens: 2\n",
            "Mean tokens: 126.0\n",
            "Median tokens: 116.0\n",
            "Standard deviation: 105.0\n",
            "Texts exceeding 512 tokens: 81 (1.36%)\n",
            "\n",
            "Percentiles:\n",
            "25th: 67.0 | 50th (median): 116.0\n",
            "75th: 158.0 | 90th: 183.0\n",
            "95th: 261.0 | 99th: 606.2600000000002\n",
            "\n",
            "Frequency Table (Token Ranges):\n",
            "           Count  Percentage\n",
            "token_bin                   \n",
            "0-50        1005        16.9\n",
            "51-100      1447        24.3\n",
            "101-200     3042        51.1\n",
            "201-300      229         3.8\n",
            "301-400       91         1.5\n",
            "401-500       61         1.0\n",
            "501-750       55         0.9\n",
            "751-1024      19         0.3\n",
            "1024+          8         0.1\n",
            "\n",
            "Examples of Long Texts (>512 tokens):\n",
            "\n",
            "Example 1 (Length: 525 tokens):\n",
            "--------------------------------------------------\n",
            "I traded in a 2014 Chrysler 300 and purchased the 2015 premium with the technology and luxury packages with 15k miles.  I was looking at the Buick LaCrosse, Chevy Impala, Azara.  The car is just as roomy as the 300 and surprisingly drives much better.  The car with the 19 inch tires is very stiff, and you can feel the bumps as you drive.  The car is very comfortable to drive, i especially enjoy the option of the extended seat for the back of the legs on long trips.  i didnt think much about that[...]\n",
            "\n",
            "Example 2 (Length: 624 tokens):\n",
            "--------------------------------------------------\n",
            "Reviews complain about gas mileage, but I don't know why. My wife and I took an 8000 mile road trip and got 24.5 mpg -- loaded with people and luggage. The last two days we took a 400 mile road trip and we got 26.7 mpg. We were in the mountains on the 8000 mile trip and I used the manual shifting a lot. No manual shifting on the Pacifica, which we compared with the Sedona before we bought it. Sedona handles extremely well with a very good turning radius. Pacifica about 3 feet larger radius. We t[...]\n",
            "\n",
            "Example 3 (Length: 568 tokens):\n",
            "--------------------------------------------------\n",
            "We purchased a Sedona SXL 7 months ago and have put 12000 miles on it since then.  Coming from a 2008 Honda Odyssey there are some distinct differences.   Most noticeable is how much quieter the interior is in the Sedona.  You can have conversation with people in the back seats at highway speeds in the Sedona without shouting, unlike the Odyssey.  The body structure of the Sedona feels very solid -- no rattles, or flex over bumps, like we would notice in the Odyssey.   The layout of the instrume[...]\n",
            "\n",
            "Example 4 (Length: 533 tokens):\n",
            "--------------------------------------------------\n",
            "we drove several of these til the dealer came up with the colors my wife wanted; on a blustery crosswind day, we compared Sedona to the 4 & 6 cylinder Siennas & the Oddysy in a 6+ mile run on I-70 & a winding, hilly no-shoulder 2-lane. the Sedona & Toyotas were very good & close, the Honda conspicuously less controllable in the twistys & harder to keep in a straight line in freeway crosswinds. We now have 20k on the car & changed to a decent tire-Cooper CS4 at 15k. Drives beautifully. OTOH the a[...]\n",
            "\n",
            "Example 5 (Length: 573 tokens):\n",
            "--------------------------------------------------\n",
            "SECURITY ALERT - DOORS UNLOCK INCESSANTLY WHEN Loading cargo or passengers,  very UNSAFE .  VIN # KNDMH4C77E6554957  2014 KIA Sedona EX There are 4 scenarios in which the door Auto UNlock safety issue arises with this car:    1.   When loading cargo or passengers many people like to \"warm\" up the car, but when doing so with the car in park and engine warming up,  ALL doors even tailgate door auto-UNlock,   when driver relocks doors with door button,  ALL doors even tailgate door auto-UNlock agai[...]\n"
          ]
        },
        {
          "data": {
            "image/png": "[encoded data removed]",
            "text/plain": [
              "<Figure size 1200x600 with 1 Axes>"
            ]
          },
          "metadata": {},
          "output_type": "display_data"
        }
      ],
      "source": [
        "# Initialize tokenizer\n",
        "tokenizer = AutoTokenizer.from_pretrained(\"facebook/bart-large-mnli\")\n",
        "\n",
        "# Calculate raw token counts (no truncation)\n",
        "df[\"raw_token_count\"] = df[\"review\"].apply(\n",
        "    lambda x: len(tokenizer.tokenize(x))\n",
        ")\n",
        "\n",
        "# Analyze token lengths\n",
        "max_length = df[\"raw_token_count\"].max()\n",
        "mean_length = df[\"raw_token_count\"].mean()\n",
        "median_length = df[\"raw_token_count\"].median()\n",
        "min_length = df[\"raw_token_count\"].min()\n",
        "std_length = df[\"raw_token_count\"].std()\n",
        "num_exceeding = (df[\"raw_token_count\"] > 512).sum()\n",
        "\n",
        "# Percentiles\n",
        "percentiles = df[\"raw_token_count\"].quantile([0.25, 0.5, 0.75, 0.9, 0.95, 0.99])\n",
        "\n",
        "# Frequency table for token ranges\n",
        "bins = [0, 50, 100, 200, 300, 400, 500, 750, 1024, max_length]\n",
        "labels = [\"0-50\", \"51-100\", \"101-200\", \"201-300\", \"301-400\", \"401-500\", \"501-750\", \"751-1024\", \"1024+\"]\n",
        "df[\"token_bin\"] = pd.cut(df[\"raw_token_count\"], bins=bins, labels=labels, right=False)\n",
        "frequency_table = pd.DataFrame({\n",
        "    \"Count\": df[\"token_bin\"].value_counts().sort_index(),\n",
        "    \"Percentage\": df[\"token_bin\"].value_counts(normalize=True).sort_index().round(3) * 100\n",
        "})\n",
        "\n",
        "# Get examples of texts exceeding 512 tokens\n",
        "long_texts = df[df[\"raw_token_count\"] > 512][\"review\"].head(5).tolist()\n",
        "\n",
        "# Print full report\n",
        "print(\"=\"*50)\n",
        "print(\"TOKEN LENGTH ANALYSIS REPORT\")\n",
        "print(\"=\"*50)\n",
        "print(f\"Total rows: {len(df)}\")\n",
        "print(f\"\\nBasic Statistics:\")\n",
        "print(f\"Max tokens: {max_length}\")\n",
        "print(f\"Min tokens: {min_length}\")\n",
        "print(f\"Mean tokens: {mean_length:.1f}\")\n",
        "print(f\"Median tokens: {median_length}\")\n",
        "print(f\"Standard deviation: {std_length:.1f}\")\n",
        "print(f\"Texts exceeding 512 tokens: {num_exceeding} ({num_exceeding/len(df)*100:.2f}%)\")\n",
        "\n",
        "print(\"\\nPercentiles:\")\n",
        "print(f\"25th: {percentiles[0.25]} | 50th (median): {percentiles[0.5]}\")\n",
        "print(f\"75th: {percentiles[0.75]} | 90th: {percentiles[0.9]}\")\n",
        "print(f\"95th: {percentiles[0.95]} | 99th: {percentiles[0.99]}\")\n",
        "\n",
        "print(\"\\nFrequency Table (Token Ranges):\")\n",
        "print(frequency_table)\n",
        "\n",
        "print(\"\\nExamples of Long Texts (>512 tokens):\")\n",
        "for i, text in enumerate(long_texts, 1):\n",
        "    print(f\"\\nExample {i} (Length: {len(tokenizer.tokenize(text))} tokens):\")\n",
        "    print(\"-\"*50)\n",
        "    print(text[:500] + \"[...]\" if len(text) > 500 else text)  # Show truncated text\n",
        "\n",
        "# Visualization\n",
        "plt.figure(figsize=(12, 6))\n",
        "plt.hist(df[\"raw_token_count\"], bins=50, log=True, edgecolor=\"black\")\n",
        "plt.axvline(512, color='r', linestyle='--', label='Model max tokens (512)')\n",
        "plt.title(\"Token Length Distribution (Log Scale)\")\n",
        "plt.xlabel(\"Token Count\")\n",
        "plt.ylabel(\"Frequency (log scale)\")\n",
        "plt.legend()\n",
        "plt.show()"
      ]
    },
    {
      "cell_type": "markdown",
      "id": "d51ac562",
      "metadata": {
        "id": "d51ac562"
      },
      "source": [
        "## Zero-Shot Classification\n",
        " We chose facebook/bart-large-mnli because it's a powerful model trained on natural language inference tasks, making it well-suited for zero-shot classification. It allows us to classify text without fine-tuning for specific classes, which is ideal for our task involving review categorization."
      ]
    },
    {
      "cell_type": "markdown",
      "id": "38c7a32c",
      "metadata": {},
      "source": [
        "While the facebook/bart-large-mnli model supports max_length=1024 tokens, we set max_length=512 to:\n",
        "\n",
        "    Optimize system performance (lower GPU memory usage, faster inference).\n",
        "\n",
        "    Minimize data truncation impact (only 1.36% of texts exceed 512 tokens)."
      ]
    },
    {
      "cell_type": "code",
      "execution_count": null,
      "id": "fee550d6",
      "metadata": {
        "colab": {
          "base_uri": "https://localhost:8080/",
          "height": 208,
          "referenced_widgets": [
            "17535ff289cc40a79a0a72c8cd2b0394",
            "c6f46c4a875148c18bb9e4d3b7f038ef",
            "2b19923f268844e696fedc8305105cb0",
            "53185e22eac241eb9602e1deec1f0bf4",
            "78c6477c33fe4e1f8cf2b37e1b7a580d",
            "4de2dfb1fd2b431fadabeea64cf68cc7",
            "a43a7a1c8a0841b1a82eb5e535438d80",
            "a29322543328443c81a2445e75fa406a",
            "35d6b2ff02264669a8eba60054642ad6",
            "58619c655f8f46c0bc2276a667e3fb29",
            "9bb73f1c24814ac0a374b147977ddfa8"
          ]
        },
        "id": "fee550d6",
        "outputId": "66b4c310-4167-4112-a6ea-81e01883bc80"
      },
      "outputs": [],
      "source": [
        "if torch.cuda.is_available():\n",
        "    device = torch.device(\"cuda:0\")\n",
        "else:\n",
        "    device = torch.device(\"cpu\")\n",
        "\n",
        "model = AutoModelForSequenceClassification.from_pretrained(\"facebook/bart-large-mnli\").to(device)\n",
        "tokenizer = AutoTokenizer.from_pretrained(\"facebook/bart-large-mnli\")\n",
        "candidate_labels = [\n",
        "    \"talks about driving experience\",\n",
        "    \"talks about features\",\n",
        "    \"talks about value for money\",\n",
        "    \"talks about issues\",\n",
        "    \"other\"\n",
        "]\n",
        "# Zero-shot classification with proper pair handling\n",
        "def classify_batch(batch):\n",
        "    # Create (review, hypothesis) pairs for all labels\n",
        "    texts = [review for review in batch['review'] for _ in candidate_labels]\n",
        "    hypotheses = [f\"This example is {label}\" for label in candidate_labels for _ in batch['review']]\n",
        "\n",
        "    # Tokenize all pairs\n",
        "    inputs = tokenizer(\n",
        "        texts,\n",
        "        hypotheses,\n",
        "        padding='longest',\n",
        "        truncation=True,\n",
        "        return_tensors=\"pt\",\n",
        "        max_length=512\n",
        "    ).to(device)\n",
        "\n",
        "    # Process in mixed precision\n",
        "    with torch.no_grad(), torch.cuda.amp.autocast():\n",
        "        logits = model(**inputs).logits\n",
        "        probs = logits[:,[0,2]].softmax(dim=1)[:,0]\n",
        "\n",
        "    # Reshape to (batch_size, num_labels)\n",
        "    probs_matrix = probs.reshape(len(batch['review']), len(candidate_labels))\n",
        "    top_labels = [candidate_labels[i] for i in probs_matrix.argmax(dim=1)]\n",
        "\n",
        "    return {\"talks_about\": top_labels}\n",
        "\n",
        "# Apply with same batch settings\n",
        "dataset = dataset.map(\n",
        "    classify_batch,\n",
        "    batched=True,\n",
        "    batch_size=32,\n",
        "    writer_batch_size=1000,\n",
        "    load_from_cache_file=False\n",
        ")"
      ]
    },
    {
      "cell_type": "markdown",
      "id": "fce1bbe3",
      "metadata": {
        "id": "fce1bbe3"
      },
      "source": [
        "## Sentiment Analysis\n",
        "The cardiffnlp/twitter-roberta-base-sentiment model is trained on tweets and social media data, which makes it ideal for short and informal texts like user reviews. It provides reliable 3-class sentiment classification\n",
        "*   positive\n",
        "*   neutral\n",
        "*   negative\n"
      ]
    },
    {
      "cell_type": "code",
      "execution_count": 6,
      "id": "d74c4945",
      "metadata": {
        "colab": {
          "base_uri": "https://localhost:8080/",
          "height": 84,
          "referenced_widgets": [
            "63aead5ecabb467caeca04d257ae3ad0",
            "883c9a30f7a449859bd7a2e33fac97ce",
            "c1d5989e6a764e02996394d48628c70d",
            "8ab61021ac9b4664b159401e752fc727",
            "32cc44fcc098446c9d9c60e8d13a1033",
            "3dbf6c24f0544e57afb6e54a932e10a9",
            "f499608931cf4283bade5ba05ae80f30",
            "d60f2cc506d5436a9c4a69e005e789f7",
            "a0790a768a81491d9ef4f17b632c3d7f",
            "f71bc675ce294ea4856d70dba65b3bc9",
            "a7fc0adf4d744b7b88da7b694ddc6565"
          ]
        },
        "id": "d74c4945",
        "outputId": "a29bb6cc-7360-4de3-9804-b9230e646367"
      },
      "outputs": [
        {
          "name": "stderr",
          "output_type": "stream",
          "text": [
            "Device set to use cuda:0\n"
          ]
        },
        {
          "data": {
            "application/vnd.jupyter.widget-view+json": {
              "model_id": "63aead5ecabb467caeca04d257ae3ad0",
              "version_major": 2,
              "version_minor": 0
            },
            "text/plain": [
              "Map:   0%|          | 0/5959 [00:00<?, ? examples/s]"
            ]
          },
          "metadata": {},
          "output_type": "display_data"
        },
        {
          "name": "stderr",
          "output_type": "stream",
          "text": [
            "You seem to be using the pipelines sequentially on GPU. In order to maximize efficiency please use a dataset\n"
          ]
        }
      ],
      "source": [
        "# GPU-accelerated sentiment analysis\n",
        "sentiment_model = pipeline(\n",
        "    \"text-classification\",\n",
        "    model=\"cardiffnlp/twitter-roberta-base-sentiment\",\n",
        "    device=0,\n",
        "    max_length=512,\n",
        "    tokenizer = AutoTokenizer.from_pretrained(\"cardiffnlp/twitter-roberta-base-sentiment\", model_max_length=512),\n",
        "    truncation=True,\n",
        "    batch_size=32\n",
        ")\n",
        "\n",
        "label_map = {\n",
        "    \"LABEL_0\": \"negative\",\n",
        "    \"LABEL_1\": \"neutral\",\n",
        "    \"LABEL_2\": \"positive\"\n",
        "}\n",
        "\n",
        "def predict_sentiment(batch):\n",
        "    results = sentiment_model(batch[\"review\"])\n",
        "    return {\"sentiment\": [label_map[r[\"label\"]] for r in results]}\n",
        "\n",
        "dataset = dataset.map(\n",
        "    predict_sentiment,\n",
        "    batched=True,\n",
        "    batch_size=32\n",
        ")"
      ]
    },
    {
      "cell_type": "markdown",
      "id": "a8ac2ea0",
      "metadata": {
        "id": "a8ac2ea0"
      },
      "source": [
        "## Analysis & Visualization"
      ]
    },
    {
      "cell_type": "code",
      "execution_count": 10,
      "id": "0f3fc866",
      "metadata": {
        "colab": {
          "base_uri": "https://localhost:8080/",
          "height": 1000
        },
        "id": "0f3fc866",
        "outputId": "3f3ec813-fc32-4e7d-9cff-f1776464fbd7"
      },
      "outputs": [
        {
          "name": "stderr",
          "output_type": "stream",
          "text": [
            "<ipython-input-10-c9751f0c4d22>:6: FutureWarning: \n",
            "\n",
            "Passing `palette` without assigning `hue` is deprecated and will be removed in v0.14.0. Assign the `x` variable to `hue` and set `legend=False` for the same effect.\n",
            "\n",
            "  sns.countplot(\n"
          ]
        },
        {
          "data": {
            "image/png": "[encoded data removed]",
            "text/plain": [
              "<Figure size 1000x500 with 1 Axes>"
            ]
          },
          "metadata": {},
          "output_type": "display_data"
        },
        {
          "name": "stderr",
          "output_type": "stream",
          "text": [
            "<ipython-input-10-c9751f0c4d22>:17: FutureWarning: \n",
            "\n",
            "Passing `palette` without assigning `hue` is deprecated and will be removed in v0.14.0. Assign the `y` variable to `hue` and set `legend=False` for the same effect.\n",
            "\n",
            "  sns.countplot(\n"
          ]
        },
        {
          "data": {
            "image/png": "[encoded data removed]",
            "text/plain": [
              "<Figure size 1200x600 with 1 Axes>"
            ]
          },
          "metadata": {},
          "output_type": "display_data"
        },
        {
          "data": {
            "image/png": "[encoded data removed]",
            "text/plain": [
              "<Figure size 1200x600 with 2 Axes>"
            ]
          },
          "metadata": {},
          "output_type": "display_data"
        }
      ],
      "source": [
        "# Convert to DataFrame\n",
        "df_final = dataset.to_pandas()\n",
        "\n",
        "# Sentiment distribution\n",
        "plt.figure(figsize=(10, 5))\n",
        "sns.countplot(\n",
        "    x=\"sentiment\",\n",
        "    data=df_final,\n",
        "    order=[\"negative\", \"neutral\", \"positive\"],\n",
        "    palette=\"viridis\"\n",
        ")\n",
        "plt.title(\"Sentiment Distribution\", fontsize=14)\n",
        "plt.show()\n",
        "\n",
        "# Topic distribution\n",
        "plt.figure(figsize=(12, 6))\n",
        "sns.countplot(\n",
        "    y=\"talks_about\",\n",
        "    data=df_final,\n",
        "    order=df_final[\"talks_about\"].value_counts().index,\n",
        "    palette=\"magma\"\n",
        ")\n",
        "plt.title(\"Topic Distribution\", fontsize=14)\n",
        "plt.xlabel(\"Count\")\n",
        "plt.ylabel(\"Topic\")\n",
        "plt.show()\n",
        "\n",
        "# Cross-analysis\n",
        "plt.figure(figsize=(12, 6))\n",
        "sns.heatmap(\n",
        "    pd.crosstab(df_final['sentiment'], df_final['talks_about']),\n",
        "    annot=True,\n",
        "    fmt=\"d\",\n",
        "    cmap=\"YlGnBu\"\n",
        ")\n",
        "plt.title(\"Sentiment vs Topic Correlation\", fontsize=14)\n",
        "plt.show()"
      ]
    },
    {
      "cell_type": "markdown",
      "id": "2a5324e7",
      "metadata": {
        "id": "2a5324e7"
      },
      "source": [
        "## Save Results"
      ]
    },
    {
      "cell_type": "code",
      "execution_count": 8,
      "id": "360e7262",
      "metadata": {
        "id": "360e7262"
      },
      "outputs": [],
      "source": [
        "# Save Results\n",
        "df_final.to_csv(\"analyzed_reviews.csv\", index=False)\n",
        "df_final.to_parquet(\"analyzed_reviews.parquet\", index=False)"
      ]
    },
    {
      "cell_type": "markdown",
      "id": "_mWElckrXazZ",
      "metadata": {
        "id": "_mWElckrXazZ"
      },
      "source": [
        "## Analysis\n",
        "\n",
        "\n",
        "---\n",
        "\n",
        "\n",
        "**1. Topic Distribution Analysis**\n",
        "\n",
        "*Insights:*\n",
        "\n",
        "*   Overwhelming focus is on the driving experience—about 80%+ of reviews. This shows that Kia customers are primarily commenting on how the car feels to drive (handling, comfort, performance, etc.).\n",
        "*   Very few reviews talk about value for money, issues, or features in comparison. These may be secondary concerns for most users—or possibly underreported.\n",
        "*   The \"other\" category is the smallest, meaning the label definitions captured most customer intent effectively.\n",
        "\\\n",
        "\n",
        "**2. Sentiment vs. Topic Correlation**\n",
        "\n",
        "*Key Observations:*\n",
        "\n",
        "Driving Experience\n",
        "\n",
        "*   3932 positive vs 1194 negative → Most users feel positively about how Kia cars drive.\n",
        "\n",
        "*   That’s a 3.3:1 positive-to-negative ratio, indicating good driver satisfaction.\n",
        "\n",
        "Features\n",
        "\n",
        "*   Heavily skewed positive (107 positive vs 4 negative).\n",
        "\n",
        "*   Users who mention features are generally happy with them—this could highlight areas like infotainment, safety, or connectivity that meet or exceed expectations.\n",
        "\n",
        "Issues\n",
        "\n",
        "*   More evenly split: 38 positive vs 41 negative, with 19 neutral.\n",
        "\n",
        "*   This makes sense—this category inherently attracts more negative sentiment.\n",
        "\n",
        "*   Actionable insight: Kia might review the content of these reviews to identify recurring complaints.\n",
        "\n",
        "Value for Money\n",
        "\n",
        "*   51 positive, 26 negative, 7 neutral.\n",
        "\n",
        "*   Leaning positive, but only 84 reviews overall suggests many users don’t directly discuss pricing—or pricing satisfaction is taken for granted or isn't a pain point.\n",
        "\n",
        "Other\n",
        "\n",
        "*   Balanced: 27 negative, 17 positive, 10 neutral.\n",
        "\n",
        "*   Hard to draw conclusions here without knowing what types of comments were categorized as “other.”\n",
        "\n",
        "**3. Summary & Recommendations**\n",
        "\n",
        "Product Strength\n",
        "\n",
        "*   Kia is perceived very positively for its driving experience.\n",
        "\n",
        "*   Features are also well-liked, though mentioned less often.\n",
        "\n",
        "Opportunities for Improvement\n",
        "\n",
        "*   A significant chunk of “driving experience” reviews are negative (1194)—this could be due to sub-models or inconsistent experience.\n",
        "\n",
        "*   Issues are a relatively small category but skew negative. These could be valuable to examine closely in customer feedback analysis."
      ]
    }
  ],
  "metadata": {
    "accelerator": "GPU",
    "colab": {
      "gpuType": "T4",
      "provenance": []
    },
    "kernelspec": {
      "display_name": "uniconnect",
      "language": "python",
      "name": "python3"
    },
    "language_info": {
      "codemirror_mode": {
        "name": "ipython",
        "version": 3
      },
      "file_extension": ".py",
      "mimetype": "text/x-python",
      "name": "python",
      "nbconvert_exporter": "python",
      "pygments_lexer": "ipython3",
      "version": "3.11.11"
    },
    "widgets": {
      "application/vnd.jupyter.widget-state+json": {
        "17535ff289cc40a79a0a72c8cd2b0394": {
          "model_module": "@jupyter-widgets/controls",
          "model_module_version": "1.5.0",
          "model_name": "HBoxModel",
          "state": {
            "_dom_classes": [],
            "_model_module": "@jupyter-widgets/controls",
            "_model_module_version": "1.5.0",
            "_model_name": "HBoxModel",
            "_view_count": null,
            "_view_module": "@jupyter-widgets/controls",
            "_view_module_version": "1.5.0",
            "_view_name": "HBoxView",
            "box_style": "",
            "children": [
              "IPY_MODEL_c6f46c4a875148c18bb9e4d3b7f038ef",
              "IPY_MODEL_2b19923f268844e696fedc8305105cb0",
              "IPY_MODEL_53185e22eac241eb9602e1deec1f0bf4"
            ],
            "layout": "IPY_MODEL_78c6477c33fe4e1f8cf2b37e1b7a580d"
          }
        },
        "2b19923f268844e696fedc8305105cb0": {
          "model_module": "@jupyter-widgets/controls",
          "model_module_version": "1.5.0",
          "model_name": "FloatProgressModel",
          "state": {
            "_dom_classes": [],
            "_model_module": "@jupyter-widgets/controls",
            "_model_module_version": "1.5.0",
            "_model_name": "FloatProgressModel",
            "_view_count": null,
            "_view_module": "@jupyter-widgets/controls",
            "_view_module_version": "1.5.0",
            "_view_name": "ProgressView",
            "bar_style": "success",
            "description": "",
            "description_tooltip": null,
            "layout": "IPY_MODEL_a29322543328443c81a2445e75fa406a",
            "max": 5959,
            "min": 0,
            "orientation": "horizontal",
            "style": "IPY_MODEL_35d6b2ff02264669a8eba60054642ad6",
            "value": 5959
          }
        },
        "32cc44fcc098446c9d9c60e8d13a1033": {
          "model_module": "@jupyter-widgets/base",
          "model_module_version": "1.2.0",
          "model_name": "LayoutModel",
          "state": {
            "_model_module": "@jupyter-widgets/base",
            "_model_module_version": "1.2.0",
            "_model_name": "LayoutModel",
            "_view_count": null,
            "_view_module": "@jupyter-widgets/base",
            "_view_module_version": "1.2.0",
            "_view_name": "LayoutView",
            "align_content": null,
            "align_items": null,
            "align_self": null,
            "border": null,
            "bottom": null,
            "display": null,
            "flex": null,
            "flex_flow": null,
            "grid_area": null,
            "grid_auto_columns": null,
            "grid_auto_flow": null,
            "grid_auto_rows": null,
            "grid_column": null,
            "grid_gap": null,
            "grid_row": null,
            "grid_template_areas": null,
            "grid_template_columns": null,
            "grid_template_rows": null,
            "height": null,
            "justify_content": null,
            "justify_items": null,
            "left": null,
            "margin": null,
            "max_height": null,
            "max_width": null,
            "min_height": null,
            "min_width": null,
            "object_fit": null,
            "object_position": null,
            "order": null,
            "overflow": null,
            "overflow_x": null,
            "overflow_y": null,
            "padding": null,
            "right": null,
            "top": null,
            "visibility": null,
            "width": null
          }
        },
        "35d6b2ff02264669a8eba60054642ad6": {
          "model_module": "@jupyter-widgets/controls",
          "model_module_version": "1.5.0",
          "model_name": "ProgressStyleModel",
          "state": {
            "_model_module": "@jupyter-widgets/controls",
            "_model_module_version": "1.5.0",
            "_model_name": "ProgressStyleModel",
            "_view_count": null,
            "_view_module": "@jupyter-widgets/base",
            "_view_module_version": "1.2.0",
            "_view_name": "StyleView",
            "bar_color": null,
            "description_width": ""
          }
        },
        "3dbf6c24f0544e57afb6e54a932e10a9": {
          "model_module": "@jupyter-widgets/base",
          "model_module_version": "1.2.0",
          "model_name": "LayoutModel",
          "state": {
            "_model_module": "@jupyter-widgets/base",
            "_model_module_version": "1.2.0",
            "_model_name": "LayoutModel",
            "_view_count": null,
            "_view_module": "@jupyter-widgets/base",
            "_view_module_version": "1.2.0",
            "_view_name": "LayoutView",
            "align_content": null,
            "align_items": null,
            "align_self": null,
            "border": null,
            "bottom": null,
            "display": null,
            "flex": null,
            "flex_flow": null,
            "grid_area": null,
            "grid_auto_columns": null,
            "grid_auto_flow": null,
            "grid_auto_rows": null,
            "grid_column": null,
            "grid_gap": null,
            "grid_row": null,
            "grid_template_areas": null,
            "grid_template_columns": null,
            "grid_template_rows": null,
            "height": null,
            "justify_content": null,
            "justify_items": null,
            "left": null,
            "margin": null,
            "max_height": null,
            "max_width": null,
            "min_height": null,
            "min_width": null,
            "object_fit": null,
            "object_position": null,
            "order": null,
            "overflow": null,
            "overflow_x": null,
            "overflow_y": null,
            "padding": null,
            "right": null,
            "top": null,
            "visibility": null,
            "width": null
          }
        },
        "4de2dfb1fd2b431fadabeea64cf68cc7": {
          "model_module": "@jupyter-widgets/base",
          "model_module_version": "1.2.0",
          "model_name": "LayoutModel",
          "state": {
            "_model_module": "@jupyter-widgets/base",
            "_model_module_version": "1.2.0",
            "_model_name": "LayoutModel",
            "_view_count": null,
            "_view_module": "@jupyter-widgets/base",
            "_view_module_version": "1.2.0",
            "_view_name": "LayoutView",
            "align_content": null,
            "align_items": null,
            "align_self": null,
            "border": null,
            "bottom": null,
            "display": null,
            "flex": null,
            "flex_flow": null,
            "grid_area": null,
            "grid_auto_columns": null,
            "grid_auto_flow": null,
            "grid_auto_rows": null,
            "grid_column": null,
            "grid_gap": null,
            "grid_row": null,
            "grid_template_areas": null,
            "grid_template_columns": null,
            "grid_template_rows": null,
            "height": null,
            "justify_content": null,
            "justify_items": null,
            "left": null,
            "margin": null,
            "max_height": null,
            "max_width": null,
            "min_height": null,
            "min_width": null,
            "object_fit": null,
            "object_position": null,
            "order": null,
            "overflow": null,
            "overflow_x": null,
            "overflow_y": null,
            "padding": null,
            "right": null,
            "top": null,
            "visibility": null,
            "width": null
          }
        },
        "53185e22eac241eb9602e1deec1f0bf4": {
          "model_module": "@jupyter-widgets/controls",
          "model_module_version": "1.5.0",
          "model_name": "HTMLModel",
          "state": {
            "_dom_classes": [],
            "_model_module": "@jupyter-widgets/controls",
            "_model_module_version": "1.5.0",
            "_model_name": "HTMLModel",
            "_view_count": null,
            "_view_module": "@jupyter-widgets/controls",
            "_view_module_version": "1.5.0",
            "_view_name": "HTMLView",
            "description": "",
            "description_tooltip": null,
            "layout": "IPY_MODEL_58619c655f8f46c0bc2276a667e3fb29",
            "placeholder": "​",
            "style": "IPY_MODEL_9bb73f1c24814ac0a374b147977ddfa8",
            "value": " 5959/5959 [08:36&lt;00:00, 12.62 examples/s]"
          }
        },
        "58619c655f8f46c0bc2276a667e3fb29": {
          "model_module": "@jupyter-widgets/base",
          "model_module_version": "1.2.0",
          "model_name": "LayoutModel",
          "state": {
            "_model_module": "@jupyter-widgets/base",
            "_model_module_version": "1.2.0",
            "_model_name": "LayoutModel",
            "_view_count": null,
            "_view_module": "@jupyter-widgets/base",
            "_view_module_version": "1.2.0",
            "_view_name": "LayoutView",
            "align_content": null,
            "align_items": null,
            "align_self": null,
            "border": null,
            "bottom": null,
            "display": null,
            "flex": null,
            "flex_flow": null,
            "grid_area": null,
            "grid_auto_columns": null,
            "grid_auto_flow": null,
            "grid_auto_rows": null,
            "grid_column": null,
            "grid_gap": null,
            "grid_row": null,
            "grid_template_areas": null,
            "grid_template_columns": null,
            "grid_template_rows": null,
            "height": null,
            "justify_content": null,
            "justify_items": null,
            "left": null,
            "margin": null,
            "max_height": null,
            "max_width": null,
            "min_height": null,
            "min_width": null,
            "object_fit": null,
            "object_position": null,
            "order": null,
            "overflow": null,
            "overflow_x": null,
            "overflow_y": null,
            "padding": null,
            "right": null,
            "top": null,
            "visibility": null,
            "width": null
          }
        },
        "63aead5ecabb467caeca04d257ae3ad0": {
          "model_module": "@jupyter-widgets/controls",
          "model_module_version": "1.5.0",
          "model_name": "HBoxModel",
          "state": {
            "_dom_classes": [],
            "_model_module": "@jupyter-widgets/controls",
            "_model_module_version": "1.5.0",
            "_model_name": "HBoxModel",
            "_view_count": null,
            "_view_module": "@jupyter-widgets/controls",
            "_view_module_version": "1.5.0",
            "_view_name": "HBoxView",
            "box_style": "",
            "children": [
              "IPY_MODEL_883c9a30f7a449859bd7a2e33fac97ce",
              "IPY_MODEL_c1d5989e6a764e02996394d48628c70d",
              "IPY_MODEL_8ab61021ac9b4664b159401e752fc727"
            ],
            "layout": "IPY_MODEL_32cc44fcc098446c9d9c60e8d13a1033"
          }
        },
        "78c6477c33fe4e1f8cf2b37e1b7a580d": {
          "model_module": "@jupyter-widgets/base",
          "model_module_version": "1.2.0",
          "model_name": "LayoutModel",
          "state": {
            "_model_module": "@jupyter-widgets/base",
            "_model_module_version": "1.2.0",
            "_model_name": "LayoutModel",
            "_view_count": null,
            "_view_module": "@jupyter-widgets/base",
            "_view_module_version": "1.2.0",
            "_view_name": "LayoutView",
            "align_content": null,
            "align_items": null,
            "align_self": null,
            "border": null,
            "bottom": null,
            "display": null,
            "flex": null,
            "flex_flow": null,
            "grid_area": null,
            "grid_auto_columns": null,
            "grid_auto_flow": null,
            "grid_auto_rows": null,
            "grid_column": null,
            "grid_gap": null,
            "grid_row": null,
            "grid_template_areas": null,
            "grid_template_columns": null,
            "grid_template_rows": null,
            "height": null,
            "justify_content": null,
            "justify_items": null,
            "left": null,
            "margin": null,
            "max_height": null,
            "max_width": null,
            "min_height": null,
            "min_width": null,
            "object_fit": null,
            "object_position": null,
            "order": null,
            "overflow": null,
            "overflow_x": null,
            "overflow_y": null,
            "padding": null,
            "right": null,
            "top": null,
            "visibility": null,
            "width": null
          }
        },
        "883c9a30f7a449859bd7a2e33fac97ce": {
          "model_module": "@jupyter-widgets/controls",
          "model_module_version": "1.5.0",
          "model_name": "HTMLModel",
          "state": {
            "_dom_classes": [],
            "_model_module": "@jupyter-widgets/controls",
            "_model_module_version": "1.5.0",
            "_model_name": "HTMLModel",
            "_view_count": null,
            "_view_module": "@jupyter-widgets/controls",
            "_view_module_version": "1.5.0",
            "_view_name": "HTMLView",
            "description": "",
            "description_tooltip": null,
            "layout": "IPY_MODEL_3dbf6c24f0544e57afb6e54a932e10a9",
            "placeholder": "​",
            "style": "IPY_MODEL_f499608931cf4283bade5ba05ae80f30",
            "value": "Map: 100%"
          }
        },
        "8ab61021ac9b4664b159401e752fc727": {
          "model_module": "@jupyter-widgets/controls",
          "model_module_version": "1.5.0",
          "model_name": "HTMLModel",
          "state": {
            "_dom_classes": [],
            "_model_module": "@jupyter-widgets/controls",
            "_model_module_version": "1.5.0",
            "_model_name": "HTMLModel",
            "_view_count": null,
            "_view_module": "@jupyter-widgets/controls",
            "_view_module_version": "1.5.0",
            "_view_name": "HTMLView",
            "description": "",
            "description_tooltip": null,
            "layout": "IPY_MODEL_f71bc675ce294ea4856d70dba65b3bc9",
            "placeholder": "​",
            "style": "IPY_MODEL_a7fc0adf4d744b7b88da7b694ddc6565",
            "value": " 5959/5959 [01:46&lt;00:00, 58.73 examples/s]"
          }
        },
        "9bb73f1c24814ac0a374b147977ddfa8": {
          "model_module": "@jupyter-widgets/controls",
          "model_module_version": "1.5.0",
          "model_name": "DescriptionStyleModel",
          "state": {
            "_model_module": "@jupyter-widgets/controls",
            "_model_module_version": "1.5.0",
            "_model_name": "DescriptionStyleModel",
            "_view_count": null,
            "_view_module": "@jupyter-widgets/base",
            "_view_module_version": "1.2.0",
            "_view_name": "StyleView",
            "description_width": ""
          }
        },
        "a0790a768a81491d9ef4f17b632c3d7f": {
          "model_module": "@jupyter-widgets/controls",
          "model_module_version": "1.5.0",
          "model_name": "ProgressStyleModel",
          "state": {
            "_model_module": "@jupyter-widgets/controls",
            "_model_module_version": "1.5.0",
            "_model_name": "ProgressStyleModel",
            "_view_count": null,
            "_view_module": "@jupyter-widgets/base",
            "_view_module_version": "1.2.0",
            "_view_name": "StyleView",
            "bar_color": null,
            "description_width": ""
          }
        },
        "a29322543328443c81a2445e75fa406a": {
          "model_module": "@jupyter-widgets/base",
          "model_module_version": "1.2.0",
          "model_name": "LayoutModel",
          "state": {
            "_model_module": "@jupyter-widgets/base",
            "_model_module_version": "1.2.0",
            "_model_name": "LayoutModel",
            "_view_count": null,
            "_view_module": "@jupyter-widgets/base",
            "_view_module_version": "1.2.0",
            "_view_name": "LayoutView",
            "align_content": null,
            "align_items": null,
            "align_self": null,
            "border": null,
            "bottom": null,
            "display": null,
            "flex": null,
            "flex_flow": null,
            "grid_area": null,
            "grid_auto_columns": null,
            "grid_auto_flow": null,
            "grid_auto_rows": null,
            "grid_column": null,
            "grid_gap": null,
            "grid_row": null,
            "grid_template_areas": null,
            "grid_template_columns": null,
            "grid_template_rows": null,
            "height": null,
            "justify_content": null,
            "justify_items": null,
            "left": null,
            "margin": null,
            "max_height": null,
            "max_width": null,
            "min_height": null,
            "min_width": null,
            "object_fit": null,
            "object_position": null,
            "order": null,
            "overflow": null,
            "overflow_x": null,
            "overflow_y": null,
            "padding": null,
            "right": null,
            "top": null,
            "visibility": null,
            "width": null
          }
        },
        "a43a7a1c8a0841b1a82eb5e535438d80": {
          "model_module": "@jupyter-widgets/controls",
          "model_module_version": "1.5.0",
          "model_name": "DescriptionStyleModel",
          "state": {
            "_model_module": "@jupyter-widgets/controls",
            "_model_module_version": "1.5.0",
            "_model_name": "DescriptionStyleModel",
            "_view_count": null,
            "_view_module": "@jupyter-widgets/base",
            "_view_module_version": "1.2.0",
            "_view_name": "StyleView",
            "description_width": ""
          }
        },
        "a7fc0adf4d744b7b88da7b694ddc6565": {
          "model_module": "@jupyter-widgets/controls",
          "model_module_version": "1.5.0",
          "model_name": "DescriptionStyleModel",
          "state": {
            "_model_module": "@jupyter-widgets/controls",
            "_model_module_version": "1.5.0",
            "_model_name": "DescriptionStyleModel",
            "_view_count": null,
            "_view_module": "@jupyter-widgets/base",
            "_view_module_version": "1.2.0",
            "_view_name": "StyleView",
            "description_width": ""
          }
        },
        "c1d5989e6a764e02996394d48628c70d": {
          "model_module": "@jupyter-widgets/controls",
          "model_module_version": "1.5.0",
          "model_name": "FloatProgressModel",
          "state": {
            "_dom_classes": [],
            "_model_module": "@jupyter-widgets/controls",
            "_model_module_version": "1.5.0",
            "_model_name": "FloatProgressModel",
            "_view_count": null,
            "_view_module": "@jupyter-widgets/controls",
            "_view_module_version": "1.5.0",
            "_view_name": "ProgressView",
            "bar_style": "success",
            "description": "",
            "description_tooltip": null,
            "layout": "IPY_MODEL_d60f2cc506d5436a9c4a69e005e789f7",
            "max": 5959,
            "min": 0,
            "orientation": "horizontal",
            "style": "IPY_MODEL_a0790a768a81491d9ef4f17b632c3d7f",
            "value": 5959
          }
        },
        "c6f46c4a875148c18bb9e4d3b7f038ef": {
          "model_module": "@jupyter-widgets/controls",
          "model_module_version": "1.5.0",
          "model_name": "HTMLModel",
          "state": {
            "_dom_classes": [],
            "_model_module": "@jupyter-widgets/controls",
            "_model_module_version": "1.5.0",
            "_model_name": "HTMLModel",
            "_view_count": null,
            "_view_module": "@jupyter-widgets/controls",
            "_view_module_version": "1.5.0",
            "_view_name": "HTMLView",
            "description": "",
            "description_tooltip": null,
            "layout": "IPY_MODEL_4de2dfb1fd2b431fadabeea64cf68cc7",
            "placeholder": "​",
            "style": "IPY_MODEL_a43a7a1c8a0841b1a82eb5e535438d80",
            "value": "Map: 100%"
          }
        },
        "d60f2cc506d5436a9c4a69e005e789f7": {
          "model_module": "@jupyter-widgets/base",
          "model_module_version": "1.2.0",
          "model_name": "LayoutModel",
          "state": {
            "_model_module": "@jupyter-widgets/base",
            "_model_module_version": "1.2.0",
            "_model_name": "LayoutModel",
            "_view_count": null,
            "_view_module": "@jupyter-widgets/base",
            "_view_module_version": "1.2.0",
            "_view_name": "LayoutView",
            "align_content": null,
            "align_items": null,
            "align_self": null,
            "border": null,
            "bottom": null,
            "display": null,
            "flex": null,
            "flex_flow": null,
            "grid_area": null,
            "grid_auto_columns": null,
            "grid_auto_flow": null,
            "grid_auto_rows": null,
            "grid_column": null,
            "grid_gap": null,
            "grid_row": null,
            "grid_template_areas": null,
            "grid_template_columns": null,
            "grid_template_rows": null,
            "height": null,
            "justify_content": null,
            "justify_items": null,
            "left": null,
            "margin": null,
            "max_height": null,
            "max_width": null,
            "min_height": null,
            "min_width": null,
            "object_fit": null,
            "object_position": null,
            "order": null,
            "overflow": null,
            "overflow_x": null,
            "overflow_y": null,
            "padding": null,
            "right": null,
            "top": null,
            "visibility": null,
            "width": null
          }
        },
        "f499608931cf4283bade5ba05ae80f30": {
          "model_module": "@jupyter-widgets/controls",
          "model_module_version": "1.5.0",
          "model_name": "DescriptionStyleModel",
          "state": {
            "_model_module": "@jupyter-widgets/controls",
            "_model_module_version": "1.5.0",
            "_model_name": "DescriptionStyleModel",
            "_view_count": null,
            "_view_module": "@jupyter-widgets/base",
            "_view_module_version": "1.2.0",
            "_view_name": "StyleView",
            "description_width": ""
          }
        },
        "f71bc675ce294ea4856d70dba65b3bc9": {
          "model_module": "@jupyter-widgets/base",
          "model_module_version": "1.2.0",
          "model_name": "LayoutModel",
          "state": {
            "_model_module": "@jupyter-widgets/base",
            "_model_module_version": "1.2.0",
            "_model_name": "LayoutModel",
            "_view_count": null,
            "_view_module": "@jupyter-widgets/base",
            "_view_module_version": "1.2.0",
            "_view_name": "LayoutView",
            "align_content": null,
            "align_items": null,
            "align_self": null,
            "border": null,
            "bottom": null,
            "display": null,
            "flex": null,
            "flex_flow": null,
            "grid_area": null,
            "grid_auto_columns": null,
            "grid_auto_flow": null,
            "grid_auto_rows": null,
            "grid_column": null,
            "grid_gap": null,
            "grid_row": null,
            "grid_template_areas": null,
            "grid_template_columns": null,
            "grid_template_rows": null,
            "height": null,
            "justify_content": null,
            "justify_items": null,
            "left": null,
            "margin": null,
            "max_height": null,
            "max_width": null,
            "min_height": null,
            "min_width": null,
            "object_fit": null,
            "object_position": null,
            "order": null,
            "overflow": null,
            "overflow_x": null,
            "overflow_y": null,
            "padding": null,
            "right": null,
            "top": null,
            "visibility": null,
            "width": null
          }
        }
      }
    }
  },
  "nbformat": 4,
  "nbformat_minor": 5
}
