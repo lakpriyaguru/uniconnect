{
 "cells": [
  {
   "cell_type": "markdown",
   "id": "c134cf47",
   "metadata": {},
   "source": [
    "# Case 03 - Task 03\n",
    "Kia Vehicle Reviews Classification and Sentiment Analysis"
   ]
  },
  {
   "cell_type": "code",
   "execution_count": 5,
   "id": "415418a0",
   "metadata": {},
   "outputs": [],
   "source": [
    "# # Install the required packages\n",
    "# !conda install -y pandas matplotlib seaborn -c conda-forge\n",
    "# !pip install transformers\n",
    "# !conda install pytorch==2.1.0 torchvision==0.16.0 torchaudio==2.1.0 pytorch-cuda=11.8 -c pytorch -c nvidia\n",
    "# !conda  install numpy==1.26.4\n",
    "# !conda install ipywidgets\n",
    "# !conda install -c conda-forge datasets"
   ]
  },
  {
   "cell_type": "code",
   "execution_count": 6,
   "id": "36525eec",
   "metadata": {},
   "outputs": [],
   "source": [
    "# Imports\n",
    "import pandas as pd\n",
    "from datasets import Dataset\n",
    "from transformers import pipeline\n",
    "import matplotlib.pyplot as plt\n",
    "import seaborn as sns"
   ]
  },
  {
   "cell_type": "markdown",
   "id": "52e44f5e",
   "metadata": {},
   "source": [
    "## Load the Dataset\n",
    "Begin by reading the `car_reviews.csv` file containing around 7000 customer reviews."
   ]
  },
  {
   "cell_type": "code",
   "execution_count": 7,
   "id": "1622e7b5",
   "metadata": {},
   "outputs": [
    {
     "name": "stdout",
     "output_type": "stream",
     "text": [
      "Index(['Review'], dtype='object')\n"
     ]
    }
   ],
   "source": [
    "# Load CSV using pandas and convert to HuggingFace Dataset\n",
    "df = pd.read_csv(\"car_reviews.csv\")\n",
    "print(df.columns)  # Confirm actual column name\n",
    "\n",
    "df = df.rename(columns={\"Review\": \"review\"})\n",
    "\n",
    "dataset = Dataset.from_pandas(df)"
   ]
  },
  {
   "cell_type": "markdown",
   "id": "d51ac562",
   "metadata": {},
   "source": [
    "## Select a Zero-Shot Classification Model\n",
    "Using `facebook/bart-large-mnli` for topic classification.\n"
   ]
  },
  {
   "cell_type": "code",
   "execution_count": null,
   "id": "fee550d6",
   "metadata": {},
   "outputs": [
    {
     "name": "stderr",
     "output_type": "stream",
     "text": [
      "Device set to use cuda:0\n"
     ]
    },
    {
     "data": {
      "application/vnd.jupyter.widget-view+json": {
       "model_id": "4ff2aa25a4b74d53940e2024105b84fd",
       "version_major": 2,
       "version_minor": 0
      },
      "text/plain": [
       "Map:   0%|          | 0/5959 [00:00<?, ? examples/s]"
      ]
     },
     "metadata": {},
     "output_type": "display_data"
    }
   ],
   "source": [
    "# Zero-shot classification pipeline\n",
    "classifier = pipeline(\"zero-shot-classification\", model=\"facebook/bart-large-mnli\", device=0)\n",
    "\n",
    "candidate_labels = [\n",
    "    \"talks about driving experience\",\n",
    "    \"talks about features\",\n",
    "    \"talks about value for money\",\n",
    "    \"talks about issues\",\n",
    "    \"other\"\n",
    "]\n",
    "\n",
    "def classify_batch(batch):\n",
    "    result = classifier(batch['review'], candidate_labels)\n",
    "    return {\"talks_about\": [r[\"labels\"][0] for r in result]}\n",
    "\n",
    "# Apply batched classification\n",
    "dataset = dataset.map(classify_batch, batched=True, batch_size=16)\n"
   ]
  },
  {
   "cell_type": "markdown",
   "id": "fce1bbe3",
   "metadata": {},
   "source": [
    "## Sentiment Analysis\n",
    "For sentiment analysis, we use `cardiffnlp/twitter-roberta-base-sentiment`"
   ]
  },
  {
   "cell_type": "code",
   "execution_count": null,
   "id": "d74c4945",
   "metadata": {},
   "outputs": [],
   "source": [
    "# Sentiment analysis\n",
    "from transformers import pipeline\n",
    "\n",
    "# Load sentiment model with truncation enabled\n",
    "sentiment_model = pipeline(\n",
    "    \"sentiment-analysis\",\n",
    "    model=\"cardiffnlp/twitter-roberta-base-sentiment\",\n",
    "    tokenizer=\"cardiffnlp/twitter-roberta-base-sentiment\",\n",
    "    truncation=True,\n",
    "    max_length=512,\n",
    "    device=0  # Use GPU\n",
    ")\n",
    "\n",
    "# Define function for batch sentiment prediction\n",
    "def predict_sentiment(batch):\n",
    "    result = sentiment_model(batch[\"review\"], truncation=True, max_length=512)\n",
    "    return {\"sentiment\": [r[\"label\"] for r in result]}\n",
    "\n",
    "# Apply the function on the dataset in batches\n",
    "dataset = dataset.map(predict_sentiment, batched=True, batch_size=16)"
   ]
  },
  {
   "cell_type": "markdown",
   "id": "a8ac2ea0",
   "metadata": {},
   "source": [
    "## Convert back to DataFrame"
   ]
  },
  {
   "cell_type": "code",
   "execution_count": null,
   "id": "0f3fc866",
   "metadata": {},
   "outputs": [],
   "source": [
    "# Convert back to DataFrame\n",
    "df_final = dataset.to_pandas()\n",
    "df_final.head()"
   ]
  },
  {
   "cell_type": "markdown",
   "id": "8a3b55fc",
   "metadata": {},
   "source": [
    "## Visualize sentiment & topics"
   ]
  },
  {
   "cell_type": "code",
   "execution_count": null,
   "id": "9b47c88a",
   "metadata": {},
   "outputs": [],
   "source": [
    "# Visualize sentiment\n",
    "plt.figure(figsize=(8, 4))\n",
    "sns.countplot(x=\"sentiment\", data=df_final)\n",
    "plt.title(\"Sentiment Distribution\")\n",
    "plt.show()\n",
    "\n",
    "# Visualize topics\n",
    "plt.figure(figsize=(10, 4))\n",
    "sns.countplot(y=\"talks_about\", data=df_final, order=df_final[\"talks_about\"].value_counts().index)\n",
    "plt.title(\"Review Topic Distribution\")\n",
    "plt.show()"
   ]
  },
  {
   "cell_type": "markdown",
   "id": "1747238f",
   "metadata": {},
   "source": [
    "## Save Results"
   ]
  },
  {
   "cell_type": "code",
   "execution_count": null,
   "id": "360e7262",
   "metadata": {},
   "outputs": [],
   "source": [
    "# Save results\n",
    "df_final.to_csv(\"car_reviews_with_predictions.csv\", index=False)"
   ]
  }
 ],
 "metadata": {
  "kernelspec": {
   "display_name": "uniconnect",
   "language": "python",
   "name": "python3"
  },
  "language_info": {
   "codemirror_mode": {
    "name": "ipython",
    "version": 3
   },
   "file_extension": ".py",
   "mimetype": "text/x-python",
   "name": "python",
   "nbconvert_exporter": "python",
   "pygments_lexer": "ipython3",
   "version": "3.11.11"
  }
 },
 "nbformat": 4,
 "nbformat_minor": 5
}
