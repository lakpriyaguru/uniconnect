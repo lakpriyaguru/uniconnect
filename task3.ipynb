{
 "cells": [
  {
   "cell_type": "markdown",
   "id": "c134cf47",
   "metadata": {},
   "source": [
    "# Case 03 - Task 03\n",
    "Kia Vehicle Reviews Classification and Sentiment Analysis"
   ]
  },
  {
   "cell_type": "code",
   "execution_count": 1,
   "id": "415418a0",
   "metadata": {},
   "outputs": [],
   "source": [
    "# # Install the required packages\n",
    "# !conda install -y pandas matplotlib seaborn -c conda-forge\n",
    "# !pip install transformers\n",
    "# !conda install pytorch==2.1.0 torchvision==0.16.0 torchaudio==2.1.0 pytorch-cuda=11.8 -c pytorch -c nvidia\n",
    "# !conda  install numpy==1.26.4\n",
    "# !conda install ipywidgets\n",
    "# !conda install -c conda-forge datasets"
   ]
  },
  {
   "cell_type": "code",
   "execution_count": 2,
   "id": "36525eec",
   "metadata": {},
   "outputs": [],
   "source": [
    "# Step 1: Imports\n",
    "import pandas as pd\n",
    "from datasets import Dataset\n",
    "from transformers import pipeline\n",
    "import matplotlib.pyplot as plt\n",
    "import seaborn as sns"
   ]
  },
  {
   "cell_type": "markdown",
   "id": "52e44f5e",
   "metadata": {},
   "source": [
    "## Step 1: Load the Dataset\n",
    "Begin by reading the `car_reviews.csv` file containing around 7000 customer reviews."
   ]
  },
  {
   "cell_type": "code",
   "execution_count": 3,
   "id": "1622e7b5",
   "metadata": {},
   "outputs": [
    {
     "name": "stdout",
     "output_type": "stream",
     "text": [
      "Index(['Review'], dtype='object')\n"
     ]
    }
   ],
   "source": [
    "# Load CSV using pandas and convert to HuggingFace Dataset\n",
    "df = pd.read_csv(\"car_reviews.csv\")\n",
    "print(df.columns)  # Confirm actual column name\n",
    "\n",
    "df = df.rename(columns={\"Review\": \"review\"})\n",
    "\n",
    "dataset = Dataset.from_pandas(df)"
   ]
  },
  {
   "cell_type": "markdown",
   "id": "d51ac562",
   "metadata": {},
   "source": [
    "## Step 2: Select a Zero-Shot Classification Model\n",
    "Choose a zero-shot classification model from HuggingFace. The model `facebook/bart-large-mnli` is selected due to its strong performance in zero-shot classification tasks across a wide range of domains. It is trained on Multi-Genre Natural Language Inference (MNLI) which makes it suitable for our task.\n"
   ]
  },
  {
   "cell_type": "code",
   "execution_count": 4,
   "id": "fee550d6",
   "metadata": {},
   "outputs": [
    {
     "name": "stderr",
     "output_type": "stream",
     "text": [
      "Device set to use cuda:0\n"
     ]
    },
    {
     "data": {
      "application/vnd.jupyter.widget-view+json": {
       "model_id": "37d6228d12694b0dbae34e1f999ef947",
       "version_major": 2,
       "version_minor": 0
      },
      "text/plain": [
       "Map:   0%|          | 0/5959 [00:00<?, ? examples/s]"
      ]
     },
     "metadata": {},
     "output_type": "display_data"
    },
    {
     "name": "stderr",
     "output_type": "stream",
     "text": [
      "You seem to be using the pipelines sequentially on GPU. In order to maximize efficiency please use a dataset\n"
     ]
    }
   ],
   "source": [
    "# Zero-shot classification pipeline\n",
    "classifier = pipeline(\"zero-shot-classification\", model=\"facebook/bart-large-mnli\", device=0)\n",
    "\n",
    "candidate_labels = [\n",
    "    \"talks about driving experience\",\n",
    "    \"talks about features\",\n",
    "    \"talks about value for money\",\n",
    "    \"talks about issues\",\n",
    "    \"other\"\n",
    "]\n",
    "\n",
    "def classify_batch(batch):\n",
    "    result = classifier(batch['review'], candidate_labels)\n",
    "    return {\"talks_about\": [r[\"labels\"][0] for r in result]}\n",
    "\n",
    "# Apply batched classification\n",
    "dataset = dataset.map(classify_batch, batched=True, batch_size=16)\n"
   ]
  },
  {
   "cell_type": "markdown",
   "id": "fce1bbe3",
   "metadata": {},
   "source": [
    "## Step 4: Sentiment Analysis\n",
    "For sentiment analysis, we use `distilbert-base-uncased-finetuned-sst-2-english`, a distilled version of BERT fine-tuned on SST-2. It is fast and accurate for classifying sentiment into positive and negative."
   ]
  },
  {
   "cell_type": "code",
   "execution_count": 5,
   "id": "d74c4945",
   "metadata": {},
   "outputs": [
    {
     "name": "stderr",
     "output_type": "stream",
     "text": [
      "c:\\Users\\kavin\\.conda\\envs\\uniconnect\\Lib\\site-packages\\torch\\_utils.py:831: UserWarning: TypedStorage is deprecated. It will be removed in the future and UntypedStorage will be the only storage class. This should only matter to you if you are using storages directly.  To access UntypedStorage directly, use tensor.untyped_storage() instead of tensor.storage()\n",
      "  return self.fget.__get__(instance, owner)()\n",
      "Device set to use cuda:0\n"
     ]
    },
    {
     "data": {
      "application/vnd.jupyter.widget-view+json": {
       "model_id": "77fb675731254aa19826d5ce5c246426",
       "version_major": 2,
       "version_minor": 0
      },
      "text/plain": [
       "Map:   0%|          | 0/5959 [00:00<?, ? examples/s]"
      ]
     },
     "metadata": {},
     "output_type": "display_data"
    }
   ],
   "source": [
    "# Step 4: Sentiment analysis\n",
    "from transformers import pipeline\n",
    "\n",
    "# Load sentiment model with truncation enabled\n",
    "sentiment_model = pipeline(\n",
    "    \"sentiment-analysis\",\n",
    "    model=\"cardiffnlp/twitter-roberta-base-sentiment\",\n",
    "    tokenizer=\"cardiffnlp/twitter-roberta-base-sentiment\",\n",
    "    truncation=True,\n",
    "    max_length=512,\n",
    "    device=0  # Use GPU\n",
    ")\n",
    "\n",
    "# Define function for batch sentiment prediction\n",
    "def predict_sentiment(batch):\n",
    "    result = sentiment_model(batch[\"review\"], truncation=True, max_length=512)\n",
    "    return {\"sentiment\": [r[\"label\"] for r in result]}\n",
    "\n",
    "# Apply the function on the dataset in batches\n",
    "dataset = dataset.map(predict_sentiment, batched=True, batch_size=16)\n"
   ]
  },
  {
   "cell_type": "markdown",
   "id": "a8ac2ea0",
   "metadata": {},
   "source": []
  },
  {
   "cell_type": "code",
   "execution_count": 6,
   "id": "0f3fc866",
   "metadata": {},
   "outputs": [
    {
     "data": {
      "text/html": [
       "<div>\n",
       "<style scoped>\n",
       "    .dataframe tbody tr th:only-of-type {\n",
       "        vertical-align: middle;\n",
       "    }\n",
       "\n",
       "    .dataframe tbody tr th {\n",
       "        vertical-align: top;\n",
       "    }\n",
       "\n",
       "    .dataframe thead th {\n",
       "        text-align: right;\n",
       "    }\n",
       "</style>\n",
       "<table border=\"1\" class=\"dataframe\">\n",
       "  <thead>\n",
       "    <tr style=\"text-align: right;\">\n",
       "      <th></th>\n",
       "      <th>review</th>\n",
       "      <th>talks_about</th>\n",
       "      <th>sentiment</th>\n",
       "    </tr>\n",
       "  </thead>\n",
       "  <tbody>\n",
       "    <tr>\n",
       "      <th>0</th>\n",
       "      <td>Bought 2017 Optima Hybrid in November 17. It w...</td>\n",
       "      <td>talks about value for money</td>\n",
       "      <td>LABEL_2</td>\n",
       "    </tr>\n",
       "    <tr>\n",
       "      <th>1</th>\n",
       "      <td>You get a lot for your money and great perfor...</td>\n",
       "      <td>talks about value for money</td>\n",
       "      <td>LABEL_2</td>\n",
       "    </tr>\n",
       "    <tr>\n",
       "      <th>2</th>\n",
       "      <td>This car is amazing and have no complaints. Y...</td>\n",
       "      <td>talks about value for money</td>\n",
       "      <td>LABEL_2</td>\n",
       "    </tr>\n",
       "    <tr>\n",
       "      <th>3</th>\n",
       "      <td>At 11k now in a lease for 39 months and it onl...</td>\n",
       "      <td>talks about issues</td>\n",
       "      <td>LABEL_0</td>\n",
       "    </tr>\n",
       "    <tr>\n",
       "      <th>4</th>\n",
       "      <td>I've owned BMW, Lexus, Mercedes-Benz in the la...</td>\n",
       "      <td>talks about value for money</td>\n",
       "      <td>LABEL_2</td>\n",
       "    </tr>\n",
       "  </tbody>\n",
       "</table>\n",
       "</div>"
      ],
      "text/plain": [
       "                                              review  \\\n",
       "0  Bought 2017 Optima Hybrid in November 17. It w...   \n",
       "1   You get a lot for your money and great perfor...   \n",
       "2   This car is amazing and have no complaints. Y...   \n",
       "3  At 11k now in a lease for 39 months and it onl...   \n",
       "4  I've owned BMW, Lexus, Mercedes-Benz in the la...   \n",
       "\n",
       "                   talks_about sentiment  \n",
       "0  talks about value for money   LABEL_2  \n",
       "1  talks about value for money   LABEL_2  \n",
       "2  talks about value for money   LABEL_2  \n",
       "3           talks about issues   LABEL_0  \n",
       "4  talks about value for money   LABEL_2  "
      ]
     },
     "execution_count": 6,
     "metadata": {},
     "output_type": "execute_result"
    }
   ],
   "source": [
    "# Step 5: Convert back to DataFrame\n",
    "df_final = dataset.to_pandas()\n",
    "df_final.head()\n"
   ]
  },
  {
   "cell_type": "code",
   "execution_count": 7,
   "id": "9b47c88a",
   "metadata": {},
   "outputs": [
    {
     "data": {
      "image/png": "[encoded data removed]",
      "text/plain": [
       "<Figure size 800x400 with 1 Axes>"
      ]
     },
     "metadata": {},
     "output_type": "display_data"
    },
    {
     "data": {
      "image/png": "[encoded data removed]",
      "text/plain": [
       "<Figure size 1000x400 with 1 Axes>"
      ]
     },
     "metadata": {},
     "output_type": "display_data"
    }
   ],
   "source": [
    "# Step 6: Visualize sentiment\n",
    "plt.figure(figsize=(8, 4))\n",
    "sns.countplot(x=\"sentiment\", data=df_final)\n",
    "plt.title(\"Sentiment Distribution\")\n",
    "plt.show()\n",
    "\n",
    "# Step 7: Visualize topics\n",
    "plt.figure(figsize=(10, 4))\n",
    "sns.countplot(y=\"talks_about\", data=df_final, order=df_final[\"talks_about\"].value_counts().index)\n",
    "plt.title(\"Review Topic Distribution\")\n",
    "plt.show()\n"
   ]
  },
  {
   "cell_type": "code",
   "execution_count": 8,
   "id": "360e7262",
   "metadata": {},
   "outputs": [],
   "source": [
    "# Step 8: Save results\n",
    "df_final.to_csv(\"car_reviews_with_predictions.csv\", index=False)\n"
   ]
  }
 ],
 "metadata": {
  "kernelspec": {
   "display_name": "uniconnect",
   "language": "python",
   "name": "python3"
  },
  "language_info": {
   "codemirror_mode": {
    "name": "ipython",
    "version": 3
   },
   "file_extension": ".py",
   "mimetype": "text/x-python",
   "name": "python",
   "nbconvert_exporter": "python",
   "pygments_lexer": "ipython3",
   "version": "3.11.11"
  }
 },
 "nbformat": 4,
 "nbformat_minor": 5
}
