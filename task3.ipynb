{
 "cells": [
  {
   "cell_type": "markdown",
   "id": "c134cf47",
   "metadata": {},
   "source": [
    "# Case 03 - Task 03\n",
    "Kia Vehicle Reviews Classification and Sentiment Analysis"
   ]
  },
  {
   "cell_type": "code",
   "execution_count": null,
   "id": "415418a0",
   "metadata": {},
   "outputs": [],
   "source": [
    "# Install the required packages\n",
    "!conda install -y pandas matplotlib seaborn -c conda-forge\n",
    "!pip install transformers\n",
    "!conda install pytorch==2.1.0 torchvision==0.16.0 torchaudio==2.1.0 pytorch-cuda=11.8 -c pytorch -c nvidia\n"
   ]
  },
  {
   "cell_type": "code",
   "execution_count": null,
   "id": "36525eec",
   "metadata": {},
   "outputs": [],
   "source": [
    "# Import necessary libraries\n",
    "import pandas as pd\n",
    "import matplotlib.pyplot as plt\n",
    "from transformers import pipeline\n",
    "import seaborn as sns\n"
   ]
  },
  {
   "cell_type": "markdown",
   "id": "52e44f5e",
   "metadata": {},
   "source": [
    "## Step 1: Load the Dataset\n",
    "Begin by reading the `car_reviews.csv` file containing around 7000 customer reviews."
   ]
  },
  {
   "cell_type": "code",
   "execution_count": null,
   "id": "1622e7b5",
   "metadata": {},
   "outputs": [],
   "source": [
    "# Load dataset\n",
    "df = pd.read_csv('car_reviews.csv')\n",
    "df.head()"
   ]
  },
  {
   "cell_type": "markdown",
   "id": "d51ac562",
   "metadata": {},
   "source": [
    "## Step 2: Select a Zero-Shot Classification Model\n",
    "Choose a zero-shot classification model from HuggingFace. The model `facebook/bart-large-mnli` is selected due to its strong performance in zero-shot classification tasks across a wide range of domains. It is trained on Multi-Genre Natural Language Inference (MNLI) which makes it suitable for our task.\n"
   ]
  },
  {
   "cell_type": "code",
   "execution_count": null,
   "id": "fee550d6",
   "metadata": {},
   "outputs": [],
   "source": [
    "# Load zero-shot classification pipeline\n",
    "classifier = pipeline('zero-shot-classification', model='facebook/bart-large-mnli', device=0)\n",
    "\n",
    "# Define candidate labels\n",
    "candidate_labels = [\n",
    "    'talks about driving experience',\n",
    "    'talks about features',\n",
    "    'talks about value for money',\n",
    "    'talks about issues',\n",
    "    'other'\n",
    "]"
   ]
  }
 ],
 "metadata": {
  "kernelspec": {
   "display_name": "uniconnect",
   "language": "python",
   "name": "python3"
  },
  "language_info": {
   "codemirror_mode": {
    "name": "ipython",
    "version": 3
   },
   "file_extension": ".py",
   "mimetype": "text/x-python",
   "name": "python",
   "nbconvert_exporter": "python",
   "pygments_lexer": "ipython3",
   "version": "3.11.11"
  }
 },
 "nbformat": 4,
 "nbformat_minor": 5
}
